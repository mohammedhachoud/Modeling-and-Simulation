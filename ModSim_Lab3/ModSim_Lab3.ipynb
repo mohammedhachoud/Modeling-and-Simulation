{
  "cells": [
    {
      "cell_type": "markdown",
      "metadata": {
        "id": "Im2Mmg04EkJB"
      },
      "source": [
        "<figure>\n",
        "  <IMG src=\"figures/logo-esi-sba.png\" WIDTH=300 height=\"100\" ALIGN=\"right\">\n",
        "</figure>\n",
        "\n",
        "# Practical Trainining Series on Modeling And Simulation   \n",
        "*By Dr. Belkacem KHALDI (b.khaldi@esi-sba.dz)*"
      ]
    },
    {
      "cell_type": "markdown",
      "metadata": {
        "id": "VCoTk4fMEkJB"
      },
      "source": [
        "## Notebook 3: Probabilities and Random Number Simulation\n",
        "In this Notebook you learn how to deal with Probabilities and Random Number Simulation. Many of the functions we will use are included in the `random` subpackage of `numpy`. We will import this package and call it `rnd` so that we don't have to type `np.random`. all the time."
      ]
    },
    {
      "cell_type": "code",
      "execution_count": 4,
      "metadata": {
        "id": "lTjkPDt4EkJR"
      },
      "outputs": [],
      "source": [
        "%matplotlib inline\n",
        "import numpy as np\n",
        "import matplotlib.pyplot as plt\n",
        "import numpy.random as rnd"
      ]
    },
    {
      "cell_type": "markdown",
      "metadata": {
        "id": "TGXTqwsQEkJR"
      },
      "source": [
        "### 1- Introduction to Probability\n",
        "Probability is a means of determining and describing the likelihood of an event occurring or the truth of a situation. It's a helpful mathematical tool for coping with unpredictability and uncertainty.\n",
        "\n",
        "### Exemple 1: Tossing a coin\n",
        "Currency coins are often said to have two sides: a \"head\" and a \"tail\"\n",
        "\n",
        "<figure>\n",
        "  <IMG src=\"figures/coin-100dz.jpeg\" WIDTH=300 height=\"100\" ALIGN=\"right\">\n",
        "</figure>\n",
        "\n",
        "A fair coin is one that is equally likely to land on either side when tossed or flipped. The side that shows up on top once the coin lands is referred to as the result of a coin toss/flip.\n",
        "    \n",
        "If we have precise measurements of the physical environment and the forces used to toss the coin, we may be able to predict the outcome. However, we rarely have access to this information, making it difficult (if not impossible) to execute all of these measurements with adequate precision.\n",
        "    \n",
        "The assumption of randomness allows you to deal with limited data and unpredictable outcomes. Tossing a coin is described as an experiment that can yield one of two outcomes at random. Probability is a metric for determining how likely each outcome is.\n",
        "\n",
        "> **Question**: If you flip a fair coin, what is the **probability** of **getting heads**?\n",
        "\n",
        "When we have several equally likely possible outcomes, the probability of a condition (also called event) is defined as:\n",
        "\n",
        "> $$P(\\textrm{condition}) = \\frac{\\textrm{ No. of outcomes satisfying the condition }} {\\textrm{Number of equally likely outcomes}}$$\n",
        "\n",
        "**The probability of a condition/event is a number between 0 and 1.**\n",
        "\n",
        "\n",
        "We can define a function `probability` to perform this calculation."
      ]
    },
    {
      "cell_type": "code",
      "execution_count": 2,
      "metadata": {
        "id": "ZmnEokrmEkJR"
      },
      "outputs": [],
      "source": [
        "def probability(matching_outcomes, total_outcomes):\n",
        "    return matching_outcomes/total_outcomes"
      ]
    },
    {
      "cell_type": "markdown",
      "metadata": {
        "id": "lCRJ-Q22EkJR"
      },
      "source": [
        "When we toss a fair coin, there are just two conceivable outcomes: \"head\" or \"tail,\" both equally likely. One of the outcomes matches the condition \"getting a head\".\n",
        "\n",
        "With this information, we can now use the formula to compute the probability of a getting a head."
      ]
    },
    {
      "cell_type": "code",
      "execution_count": 4,
      "metadata": {
        "colab": {
          "base_uri": "https://localhost:8080/"
        },
        "id": "PgMWjYYZEkJR",
        "outputId": "087bfccf-4185-42e8-927f-f6c444d0685a"
      },
      "outputs": [
        {
          "name": "stdout",
          "output_type": "stream",
          "text": [
            "The probability of getting a head: 0.5\n"
          ]
        }
      ],
      "source": [
        "p_head = probability(matching_outcomes=1, total_outcomes=2)\n",
        "print(\"The probability of getting a head:\", p_head)"
      ]
    },
    {
      "cell_type": "markdown",
      "metadata": {
        "id": "2IBIlND2EkJR"
      },
      "source": [
        "### Challenge 1\n",
        "Using the `probability` function mention above, compute the probability of the following queries when you flip a fair coin:\n",
        "<ol>\n",
        "  <li>What is the probability  of getting a tail ? </li>\n",
        "  <li>What is the probability of getting a head or a tail?</li>\n",
        "  <li>What is the probability of receiving neither a head nor a tail?</li>\n",
        "</ol>\n",
        "   "
      ]
    },
    {
      "cell_type": "code",
      "execution_count": 5,
      "metadata": {
        "id": "38_KOfY2EkJR"
      },
      "outputs": [
        {
          "name": "stdout",
          "output_type": "stream",
          "text": [
            "The probability of getting a tail: 0.5\n",
            "The probability of getting a tail or head: 1.0\n",
            "The probability of getting neither tail nor head: 0.0\n"
          ]
        }
      ],
      "source": [
        "#Your solutions here\n",
        "p_tail = probability(matching_outcomes=1, total_outcomes=2)\n",
        "print(\"The probability of getting a tail:\", p_tail)\n",
        "\n",
        "print(\"The probability of getting a tail or head:\", p_tail + p_head)\n",
        "\n",
        "print(\"The probability of getting neither tail nor head:\", 1-( p_tail + p_head))"
      ]
    },
    {
      "cell_type": "markdown",
      "metadata": {
        "id": "7dDKn8QCEkJR"
      },
      "source": [
        "### Exemple 2: Rolling dice\n",
        "\n",
        "A die (plural dice) is a 6-sided cube with a varied number of dots on each face (one to six). The number of dots that appear on the top face of a die after it has been rolled or thrown is known as the result of the roll/throw. As a result, a die throw can result in one of the following outcomes: 1, 2, 3, 4, 5, or 6.\n",
        "\n",
        "<img src=\"figures/one-dice.jpg\" width=\"100\">\n",
        "\n",
        "> **Question**: What is the probability of getting a four when a fair die is rolled?\n",
        "\n",
        "All outcomes are equally likely for a fair die, and the only the outcome 4 satisfies the condition \"getting a 4\". Thus, we can calculate the probability of the condition as follows:"
      ]
    },
    {
      "cell_type": "code",
      "execution_count": 6,
      "metadata": {
        "colab": {
          "base_uri": "https://localhost:8080/"
        },
        "id": "W8jK3IioEkJR",
        "outputId": "bbd95e6f-1400-4cef-a9be-354c90cc3f7f"
      },
      "outputs": [
        {
          "name": "stdout",
          "output_type": "stream",
          "text": [
            "The probability of getting a 4: 0.16666666666666666\n"
          ]
        }
      ],
      "source": [
        "p_die_4=probability(matching_outcomes=1, total_outcomes=6)\n",
        "print(\"The probability of getting a 4:\", p_die_4)"
      ]
    },
    {
      "cell_type": "markdown",
      "metadata": {
        "id": "clasSQUDEkJR"
      },
      "source": [
        "### Challenge 2\n",
        "Compute the probability of the following queries when rolling a die:\n",
        "\n",
        "<ol>\n",
        "  <li>What is the probability of getting <b> an even number </b>? </li>\n",
        "  <li>What is the probability of getting <b>a three or a six </b>?</li>\n",
        "  <li>What is the probability of getting <b>a three and a six</b>?</li>\n",
        "   <li> What is the probability of getting <b> a three or a seven</b>?</li>\n",
        "</ol>"
      ]
    },
    {
      "cell_type": "code",
      "execution_count": 7,
      "metadata": {
        "id": "EzA-k4ujEkJR"
      },
      "outputs": [
        {
          "name": "stdout",
          "output_type": "stream",
          "text": [
            "The probability of getting a Even Number: 0.5\n",
            "The probability of getting a three or six: 0.3333333333333333\n",
            "The probability of getting a three and six: 0.027777777777777776\n",
            "The probability of getting a three or seven: 0.16666666666666666\n"
          ]
        }
      ],
      "source": [
        "#Your Solutions Here\n",
        "p_even=probability(matching_outcomes=3, total_outcomes=6)\n",
        "print(\"The probability of getting a Even Number:\", p_even)\n",
        "\n",
        "p_3_6=probability(matching_outcomes=2, total_outcomes=6)\n",
        "print(\"The probability of getting a three or six:\", p_3_6)\n",
        "\n",
        "p_3and6=probability(matching_outcomes=1, total_outcomes=6) * probability(matching_outcomes=1, total_outcomes=6)\n",
        "print(\"The probability of getting a three and six:\", p_3and6)\n",
        "\n",
        "p_3or7=probability(matching_outcomes=1, total_outcomes=6) + probability(matching_outcomes=0, total_outcomes=6)\n",
        "print(\"The probability of getting a three or seven:\", p_3or7)"
      ]
    },
    {
      "cell_type": "markdown",
      "metadata": {
        "id": "XLZt7SKYEkJR"
      },
      "source": [
        "### Exemple 3: Playing Cards\n",
        "\n",
        "<img src=\"figures/deck_cards.jpg\" width=\"200\">\n",
        "\n",
        "There are 52 cards in a deck of playing cards. Each card is assigned to one of four suits: Spade ♠️, Clubs ♣️, Hearts ♥️ or Diamonds ♦️. Each suit consists of 13 cards: *Ace, 2, 3, 4, 5, 6, 7, 8, 9, 10, Jack, Queen*, and *King*. Hearts and diamonds are red, but spades and clubs are black.\n",
        "\n",
        "<img src=\"figures/playing_cards_deck.svg.png\" >\n",
        "\n",
        "\n",
        "\n",
        "\n",
        "In a well-shuffled deck of cards, any card is equally likely to end up at any position in the deck.\n",
        "\n",
        "<img src=\"figures/giphy.gif\" >\n",
        "\n",
        "\n",
        "> **Question**: What is the probability of **drawing a King of Hearts** from a well-shuffled deck of cards?\n",
        "\n",
        "There are 52 equally likely outcomes of the card being drawn, and just one outcome matches this condition."
      ]
    },
    {
      "cell_type": "code",
      "execution_count": 8,
      "metadata": {
        "colab": {
          "base_uri": "https://localhost:8080/"
        },
        "id": "FVWEsCxmEkJR",
        "outputId": "0ac40093-5b43-4888-ab55-4b8537849768"
      },
      "outputs": [
        {
          "name": "stdout",
          "output_type": "stream",
          "text": [
            "The probability of getting a King of Hearts: 0.019230769230769232\n"
          ]
        }
      ],
      "source": [
        "p_king_of_hearts=probability(matching_outcomes=1, total_outcomes=52)\n",
        "print(\"The probability of getting a King of Hearts:\", p_king_of_hearts)"
      ]
    },
    {
      "cell_type": "markdown",
      "metadata": {
        "id": "eOZRRP5jEkJR"
      },
      "source": [
        "### Challenge 3\n",
        "What is the probability of **drawing a red card** from a well-shuffled deck of cards.\n",
        "\n",
        "> *Hint*: Count the number of red cards.\n",
        "\n",
        "What is the probability of **drawing a spade ♠️** from a well-shuffled deck of cards.\n",
        "\n",
        "What is the probability of **drawing a 7** from a well-shuffled deck of cards.\n",
        "\n",
        "What is the probability of **drawing a card that's a spade and a jack** from a well-shuffled deck of cards?"
      ]
    },
    {
      "cell_type": "code",
      "execution_count": 9,
      "metadata": {
        "id": "ser-NIvZEkJR"
      },
      "outputs": [
        {
          "name": "stdout",
          "output_type": "stream",
          "text": [
            "The probability of getting a Red Card: 0.5\n",
            "The probability of getting a Spades: 0.25\n",
            "The probability of getting a 7: 0.07692307692307693\n"
          ]
        }
      ],
      "source": [
        "# Your Solutions Here\n",
        "p_red_cards=probability(matching_outcomes=26, total_outcomes=52)\n",
        "print(\"The probability of getting a Red Card:\", p_red_cards)\n",
        "\n",
        "p_sades=probability(matching_outcomes=13, total_outcomes=52)\n",
        "print(\"The probability of getting a Spades:\", p_sades)\n",
        "\n",
        "p_7=probability(matching_outcomes=4, total_outcomes=52)\n",
        "print(\"The probability of getting a 7:\", p_7)"
      ]
    },
    {
      "cell_type": "markdown",
      "metadata": {
        "id": "kN80WERmEkJR"
      },
      "source": [
        "### Bayes's Theorem\n",
        "\n",
        "There are two ways to think about Bayes's Theorem:\n",
        "\n",
        "* It is a divide-and conquer strategy for computing conditional probabilities.  If it's hard to compute $P(A|B)$ directly, sometimes it is easier to compute the terms on the other side of the equation: $P(A)$, $P(B|A)$, and $P(B)$.\n",
        "\n",
        "* It is also a recipe for updating beliefs in the light of new data.\n",
        "\n",
        "When we are working with the second interpretation, we often write Bayes's Theorem with different variables.  Instead of $A$ and $B$, we use $H$ and $D$, where\n",
        "\n",
        "* $H$ stands for \"hypothesis\", and\n",
        "\n",
        "* $D$ stands for \"data\".\n",
        "\n",
        "So we write Bayes's Theorem like this:\n",
        "\n",
        "$P(A|B) =\\frac{P(A) ~ P(B|A)}{P(B)}$\n",
        "\n",
        "$P(H|D) =\\frac{P(H) ~ P(D|H)}{P(D)}$\n",
        "\n",
        "In this context, each term has a name:\n",
        "\n",
        "* $P(H)$ is the \"prior probability\" of the hypothesis, which represents how confident you are that $H$ is true prior to seeing the data,\n",
        "\n",
        "* $P(D|H)$ is the \"likelihood\" of the data, which is the probability of seeing $D$ if the hypothesis is true,\n",
        "\n",
        "* $P(D)$ is the \"total probability of the data\", that is, the chance of seeing $D$ regardless of whether $H$ is true or not.\n",
        "\n",
        "* $P(H|D)$ is the \"posterior probability\" of the hypothesis, which indicates how confident you should be that $H$ is true after taking the data into account.\n",
        "\n",
        "An example will make all of this clearer."
      ]
    },
    {
      "cell_type": "markdown",
      "metadata": {
        "id": "gI32GW57EkJR"
      },
      "source": [
        "### The cookie problem\n",
        "\n",
        "\n",
        "> Suppose you have two bowls of cookies.  Bowl 1 contains 30 vanilla and 10 chocolate cookies.  Bowl 2 contains 20 of each kind.\n",
        ">\n",
        "> You choose one of the bowls at random and, without looking into the bowl, choose one of the cookies at random.  It turns out to be a vanilla cookie.\n",
        ">\n",
        "> What is the chance that you chose Bowl 1?\n",
        "\n",
        "We'll assume that there was an equal chance of choosing either bowl and an equal chance of choosing any cookie in the bowl."
      ]
    },
    {
      "cell_type": "markdown",
      "metadata": {
        "id": "B1C7l8vWEkJR"
      },
      "source": [
        "We can solve this problem using Bayes's Theorem. First, I'll define  $H$  and  $D$ :\n",
        "\n",
        "$H$  is the hypothesis that the bowl you chose is Bowl 1.\n",
        "\n",
        "$D$  is the data that the cookie is vanilla.\n",
        "\n",
        "What we want is the posterior probability of  $H$ , which is  $P(H|D)$ . It is not obvious how to compute it directly, but if we can figure out the terms on the right-hand side of Bayes's Theorem, we can get to it indirectly.\n",
        "\n",
        "$P(H)$ is the prior probability of $H$, which is the probability of choosing Bowl 1 before we see the data. If there was an equal chance of choosing either bowl, $P(H)$ is 1/2.\n",
        "\n",
        "$P(D|H)$ is the likelihood of the data, which is the chance of getting a vanilla cookie if $H$ is true, in other words, the chance of getting a vanilla cookie from Bowl 1, which is 30/40.\n",
        "\n",
        "$P(D)$ is the total probability of the data, which is the chance of getting a vanilla cookie whether $𝐻$ is true or not. In this example, we can figure out $P(D)$ directly: because the bowls are equally likely, and they contain the same number of cookies, you were equally likely to choose any cookie. Combining the two bowls, there are 50 vanilla and 30 chocolate cookies, so the probability of choosing a vanilla cookie is 50/80.\n",
        "\n",
        "Now that we have the terms on the right-hand side, we can use Bayes's Theorem to combine them."
      ]
    },
    {
      "cell_type": "code",
      "execution_count": 9,
      "metadata": {
        "colab": {
          "base_uri": "https://localhost:8080/"
        },
        "id": "SuQB3sM8EkJR",
        "outputId": "da229b50-03db-423f-a681-d95e72215620"
      },
      "outputs": [
        {
          "name": "stdout",
          "output_type": "stream",
          "text": [
            "The probability of choosing Bowl 1: 0.6\n"
          ]
        }
      ],
      "source": [
        "#𝑃(𝐻)\n",
        "prior = probability(matching_outcomes=1, total_outcomes=2)\n",
        "#𝑃(𝐷|𝐻)\n",
        "likelihood =probability(matching_outcomes=30, total_outcomes=40)\n",
        "#𝑃(𝐷)\n",
        "prob_data = probability(matching_outcomes=50, total_outcomes=80)\n",
        "#computing 𝑃(𝐻|𝐷)\n",
        "posterior = prior * likelihood / prob_data\n",
        "print(\"The probability of choosing Bowl 1:\", posterior)"
      ]
    },
    {
      "cell_type": "markdown",
      "metadata": {
        "id": "rbOP8-UjEkJR"
      },
      "source": [
        "The posterior probability is  0.6 , a little higher than the prior, which was  0.5 .\n",
        "\n",
        "So the vanilla cookie makes us a little more certain that we chose Bowl 1.\n",
        "\n",
        "### Challenge 4\n",
        "What if we had chosen a chocolate cookie instead; what would be the posterior probability of Bowl 1?"
      ]
    },
    {
      "cell_type": "code",
      "execution_count": 3,
      "metadata": {
        "id": "zc1D49qwEkJR"
      },
      "outputs": [
        {
          "name": "stdout",
          "output_type": "stream",
          "text": [
            "The probability of choosing Bowl 1: 0.3333333333333333\n"
          ]
        }
      ],
      "source": [
        "#Your solution here\n",
        "#𝑃(𝐻)\n",
        "prior = probability(matching_outcomes=1, total_outcomes=2)\n",
        "#𝑃(𝐷|𝐻)\n",
        "likelihood =probability(matching_outcomes=10, total_outcomes=40)\n",
        "#𝑃(𝐷)\n",
        "prob_data = probability(matching_outcomes=30, total_outcomes=80)\n",
        "#computing 𝑃(𝐻|𝐷)\n",
        "posterior = prior * likelihood / prob_data\n",
        "print(\"The probability of choosing Bowl 1:\", posterior)"
      ]
    },
    {
      "cell_type": "markdown",
      "metadata": {
        "id": "QTzuWUR_EkJR"
      },
      "source": [
        "### 2- Random Numbers Generation\n",
        "A random number generator lets you draw, at random, a number from a specified distribution. Several random number generators are included in the `random` subpackage of `numpy`.\n",
        "\n",
        "#### The random.random() function\n",
        " The `random.random()` function returns the next nearest  foating-point value from the generated sequence. All return values are enclosed between 0 and 1.0. Let's explore a practical example that uses this function:"
      ]
    },
    {
      "cell_type": "code",
      "execution_count": 6,
      "metadata": {
        "colab": {
          "base_uri": "https://localhost:8080/"
        },
        "id": "AlEYCiHpEkJR",
        "outputId": "e40f07b0-970a-4fdb-bfcb-4d864de3501e",
        "scrolled": true
      },
      "outputs": [
        {
          "ename": "TypeError",
          "evalue": "only size-1 arrays can be converted to Python scalars",
          "output_type": "error",
          "traceback": [
            "\u001b[1;31m---------------------------------------------------------------------------\u001b[0m",
            "\u001b[1;31mTypeError\u001b[0m                                 Traceback (most recent call last)",
            "Cell \u001b[1;32mIn[6], line 2\u001b[0m\n\u001b[0;32m      1\u001b[0m \u001b[38;5;28;01mfor\u001b[39;00m i \u001b[38;5;129;01min\u001b[39;00m \u001b[38;5;28mrange\u001b[39m(\u001b[38;5;241m20\u001b[39m):\n\u001b[1;32m----> 2\u001b[0m     \u001b[38;5;28mprint\u001b[39m(\u001b[38;5;124m'\u001b[39m\u001b[38;5;132;01m%05.4f\u001b[39;00m\u001b[38;5;124m'\u001b[39m \u001b[38;5;241m%\u001b[39m rnd\u001b[38;5;241m.\u001b[39mrandom(\u001b[38;5;241m100\u001b[39m), end\u001b[38;5;241m=\u001b[39m\u001b[38;5;124m'\u001b[39m\u001b[38;5;124m \u001b[39m\u001b[38;5;124m'\u001b[39m)\n",
            "\u001b[1;31mTypeError\u001b[0m: only size-1 arrays can be converted to Python scalars"
          ]
        }
      ],
      "source": [
        "for i in range(20):\n",
        "    print('%05.4f' % rnd.random(100), end=' ')"
      ]
    },
    {
      "cell_type": "markdown",
      "metadata": {
        "id": "nOqkhUJeEkJR"
      },
      "source": [
        "In the above example, 20 pseudorandom numbers are generated. Each number is printed in a format that includes 5 digits, including 4 decimal places.\n",
        "If we call the random() function again, we get a different sequence numbers:"
      ]
    },
    {
      "cell_type": "code",
      "execution_count": 12,
      "metadata": {
        "colab": {
          "base_uri": "https://localhost:8080/"
        },
        "id": "NW7xelo4EkJR",
        "outputId": "90ff253e-5597-4536-a130-82461f71001f"
      },
      "outputs": [
        {
          "name": "stdout",
          "output_type": "stream",
          "text": [
            "0.5703 0.8533 0.1710 0.3198 0.9891 0.4984 0.2453 0.3077 0.4372 0.1965 0.9771 0.3950 0.2694 0.8585 0.6127 0.9735 0.6738 0.0004 0.1587 0.7243 "
          ]
        }
      ],
      "source": [
        "for i in range(20):\n",
        "    print('%05.4f' % rnd.random(), end=' ')"
      ]
    },
    {
      "cell_type": "markdown",
      "metadata": {
        "id": "PiTlJwyeEkJR"
      },
      "source": [
        "#### The random.seed() function\n",
        "Internally, the random number generator starts with what is called a `seed`. The `seed` is a number and is generated automatically (and supposedly at random) when you call the random number generator. The value of the seed exactly defines the sequence of random numbers that you get. For example, let's set seed equal to 1:"
      ]
    },
    {
      "cell_type": "code",
      "execution_count": 13,
      "metadata": {
        "colab": {
          "base_uri": "https://localhost:8080/"
        },
        "id": "u8mY60EBEkJR",
        "outputId": "1607666a-8012-48da-9a69-2795b81be06b"
      },
      "outputs": [
        {
          "name": "stdout",
          "output_type": "stream",
          "text": [
            "0.4170 0.7203 0.0001 0.3023 0.1468 0.0923 0.1863 0.3456 0.3968 0.5388 0.4192 0.6852 0.2045 0.8781 0.0274 0.6705 0.4173 0.5587 0.1404 0.1981 "
          ]
        }
      ],
      "source": [
        "rnd.seed(1)\n",
        "for i in range(20):\n",
        "    print('%05.4f' % rnd.random(), end=' ')"
      ]
    },
    {
      "cell_type": "markdown",
      "metadata": {
        "id": "ToDwkYKVEkJR"
      },
      "source": [
        "If we now specify the `seed` again as 1, the exact same sequence is generated again."
      ]
    },
    {
      "cell_type": "code",
      "execution_count": 14,
      "metadata": {
        "colab": {
          "base_uri": "https://localhost:8080/"
        },
        "id": "sVuy9XquEkJR",
        "outputId": "7cf910ad-5898-44c9-f2e8-e6f9ded83e2b"
      },
      "outputs": [
        {
          "name": "stdout",
          "output_type": "stream",
          "text": [
            "0.4170 0.7203 0.0001 0.3023 0.1468 0.0923 0.1863 0.3456 0.3968 0.5388 0.4192 0.6852 0.2045 0.8781 0.0274 0.6705 0.4173 0.5587 0.1404 0.1981 "
          ]
        }
      ],
      "source": [
        "rnd.seed(1)\n",
        "for i in range(20):\n",
        "    print('%05.4f' % rnd.random(), end=' ')"
      ]
    },
    {
      "cell_type": "markdown",
      "metadata": {
        "id": "_eRdaKjmEkJR"
      },
      "source": [
        "#### The random.uniform() function\n",
        "The `random.uniform()` function generates numbers within a defined numeric range. Let's look at an example:"
      ]
    },
    {
      "cell_type": "code",
      "execution_count": 15,
      "metadata": {
        "colab": {
          "base_uri": "https://localhost:8080/"
        },
        "id": "QRpkfbvfEkJR",
        "outputId": "3af26e96-94dd-40e8-c996-a2c31efeb7b7"
      },
      "outputs": [
        {
          "name": "stdout",
          "output_type": "stream",
          "text": [
            "80.2737 96.8579 32.0290 69.5399 87.7625 89.5661 9.4194 4.8664 17.8132 87.9361 10.7363 42.6897 95.8311 53.7834 69.4958 32.2360 68.9636 83.6279 2.8105 75.2643 "
          ]
        }
      ],
      "source": [
        "for i in range(20):\n",
        "    print('%6.4f' % rnd.uniform(1, 100), end=' ')"
      ]
    },
    {
      "cell_type": "markdown",
      "metadata": {
        "id": "V_cONPrvEkJR"
      },
      "source": [
        "In the above example, 20 random numbers are generated in the range of [1,100)\n",
        "\n",
        "#### The random.randint() function\n",
        "This function generates random integers.  The arguments for `randint()` are the values of the range, including the extremes.  The numbers may be negative or positive, but the  1st value should be less than the second. Let's look at an example:"
      ]
    },
    {
      "cell_type": "code",
      "execution_count": 16,
      "metadata": {
        "colab": {
          "base_uri": "https://localhost:8080/"
        },
        "id": "L2-Mpp_uEkJR",
        "outputId": "d1bbe712-1aea-427a-af1d-d70c8c7cfb90"
      },
      "outputs": [
        {
          "name": "stdout",
          "output_type": "stream",
          "text": [
            "-85 -36 96 -75 11 35 -74 53 4 -78 -91 95 26 -77 25 0 55 65 -43 -17 "
          ]
        }
      ],
      "source": [
        "for i in range(20):\n",
        "    print(rnd.randint(-100, 100), end=' ')"
      ]
    },
    {
      "cell_type": "markdown",
      "metadata": {
        "id": "2tVKJscREkJR"
      },
      "source": [
        "In the above example, 20 random integer numbers are generated in the range of [-100,100]\n",
        "\n",
        "#### The random.choice() function\n",
        "A common use for random number generators is to select a random element from a sequence of enumerated values, even if these values are not numbers.  The `choice()` function returns a random element of the non-empty sequence passed as an argument. This function is suitable to use in extracting values from a predetermined list:"
      ]
    },
    {
      "cell_type": "code",
      "execution_count": 17,
      "metadata": {
        "colab": {
          "base_uri": "https://localhost:8080/"
        },
        "id": "0M2s3n0XEkJR",
        "outputId": "bbbbd9c4-f642-4a1e-b775-03355f2d9031"
      },
      "outputs": [
        {
          "name": "stdout",
          "output_type": "stream",
          "text": [
            "Randomly selected item from Cities list is -  Los Angeles\n",
            "Randomly selected item from Cities list is -  Madrid\n",
            "Randomly selected item from Cities list is -  Rome\n",
            "Randomly selected item from Cities list is -  Algiers\n",
            "Randomly selected item from Cities list is -  Toronto\n"
          ]
        }
      ],
      "source": [
        "CitiesList = ['Rome','New York','Algiers','London','Berlin','Moskov',\n",
        "'Los Angeles','Paris','Madrid','Tokio','Toronto']\n",
        "for i in range(5):\n",
        "    CitiesItem = rnd.choice(CitiesList)\n",
        "    print (\"Randomly selected item from Cities list is - \",CitiesItem)"
      ]
    },
    {
      "cell_type": "markdown",
      "metadata": {
        "id": "JjYAsLSwEkJR"
      },
      "source": [
        "In the above example, 5 random elements are selected from the sequence list CitiesList. At each iteration of the cycle, a new element is extracted from the list containingthe names of the cities.\n",
        "\n",
        "#### Selecting n random values from an array\n",
        "Many simulations require random samples from a population of input values.  The `size` option in the `choice()` function is for that purpose. Let's look at an example:"
      ]
    },
    {
      "cell_type": "code",
      "execution_count": 18,
      "metadata": {
        "colab": {
          "base_uri": "https://localhost:8080/"
        },
        "id": "vmkaLPLiEkJR",
        "outputId": "b79ecea0-5830-4be1-82be-f35dcd89b49e"
      },
      "outputs": [
        {
          "name": "stdout",
          "output_type": "stream",
          "text": [
            "Initial Data List =  range(10, 100, 10)\n",
            "Sample Data List =  [80 80 80 40 10]\n"
          ]
        }
      ],
      "source": [
        "DataList = range(10,100,10)\n",
        "print(\"Initial Data List = \",DataList)\n",
        "DataSample = rnd.choice(DataList,size=5)\n",
        "print(\"Sample Data List = \",DataSample)"
      ]
    },
    {
      "cell_type": "markdown",
      "metadata": {
        "id": "0XN2aODIEkJh"
      },
      "source": [
        "In the above example, only 5 elements of the initial list were selected, and this selection was completely random.\n",
        "### 2- Exploring Probability Distributions\n",
        "#### Uniform Distribution\n",
        "This distribution generates random values uniformly distributed over the half-open interval [a,b).\n",
        "Any value within the given interval is equally likely to be drawn by uniform distribution. Let's look at an example:"
      ]
    },
    {
      "cell_type": "code",
      "execution_count": 19,
      "metadata": {
        "colab": {
          "base_uri": "https://localhost:8080/",
          "height": 430
        },
        "id": "-zwIQOvTEkJh",
        "outputId": "51bad96d-1000-4776-d829-32a224b40d8a"
      },
      "outputs": [
        {
          "data": {
            "image/png": "[encoded data removed]",
            "text/plain": [
              "<Figure size 640x480 with 1 Axes>"
            ]
          },
          "metadata": {},
          "output_type": "display_data"
        }
      ],
      "source": [
        "#Initializing uniform distribution parameters\n",
        "a=1\n",
        "b=100\n",
        "N=100\n",
        "#Randomly generate 100 numbers between a and b\n",
        "#using uniform distribution\n",
        "X1=rnd.uniform(a,b,N)\n",
        "#Ploting X1 using matplotlib.pyplot library\n",
        "plt.plot(X1)\n",
        "plt.show()"
      ]
    },
    {
      "cell_type": "markdown",
      "metadata": {
        "id": "DQI5KuxuEkJh"
      },
      "source": [
        "Lets now analyze how the generated values are distributed in the interval considered. We draw a graph of the probability density function as follows:"
      ]
    },
    {
      "cell_type": "code",
      "execution_count": 20,
      "metadata": {
        "colab": {
          "base_uri": "https://localhost:8080/",
          "height": 430
        },
        "id": "l8Yng-4WEkJh",
        "outputId": "8094722b-7a53-4dc7-a608-2ce6520813c1"
      },
      "outputs": [
        {
          "data": {
            "image/png": "[encoded data removed]",
            "text/plain": [
              "<Figure size 640x480 with 1 Axes>"
            ]
          },
          "metadata": {},
          "output_type": "display_data"
        }
      ],
      "source": [
        "plt.figure()\n",
        "plt.hist(X1, density=True, histtype='stepfilled',\n",
        "alpha=0.2)\n",
        "plt.show()"
      ]
    },
    {
      "cell_type": "markdown",
      "metadata": {
        "id": "XOQIXtrDEkJh"
      },
      "source": [
        "Here, we can see that the generated values are distributed almost evenly throughout the range.\n",
        "Let's now see What happens if we increase the number of generated values?\n",
        "Then, we repeat the commands to generate up to 10000 random numbers uniformly distributed between 1 and 100."
      ]
    },
    {
      "cell_type": "code",
      "execution_count": 21,
      "metadata": {
        "colab": {
          "base_uri": "https://localhost:8080/",
          "height": 843
        },
        "id": "_M6WXcahEkJh",
        "outputId": "1b69ae6d-a41b-4196-d893-19eaa1ec292a"
      },
      "outputs": [
        {
          "data": {
            "image/png": "[encoded data removed]",
            "text/plain": [
              "<Figure size 640x480 with 1 Axes>"
            ]
          },
          "metadata": {},
          "output_type": "display_data"
        },
        {
          "data": {
            "image/png": "[encoded data removed]",
            "text/plain": [
              "<Figure size 640x480 with 1 Axes>"
            ]
          },
          "metadata": {},
          "output_type": "display_data"
        }
      ],
      "source": [
        "a=1\n",
        "b=100\n",
        "N=10000\n",
        "\n",
        "X2=rnd.uniform(a,b,N)\n",
        "plt.figure()\n",
        "plt.plot(X2)\n",
        "plt.show()\n",
        "\n",
        "plt.figure()\n",
        "plt.hist(X2, density=True, histtype='stepfilled',\n",
        "alpha=0.2)\n",
        "plt.show()"
      ]
    },
    {
      "cell_type": "markdown",
      "metadata": {
        "id": "yrgNJisbEkJh"
      },
      "source": [
        "Analyzing the previous histogram and comparing it with what we obtained in the case of N=100, we can see that this time, the distribution appears to be  flatter.  The distribution becomes more and more  flat as N increases.\n",
        "#### Binomial distribution\n",
        "The binomial distribution is the probability of obtaining $x$ successes in $t$ independent trials and is computed as follows:\n",
        "\n",
        "$p(x) =  \\binom{t}{x} p^t(1-p)^{t-x}, 0\\leq x \\leq t $\n",
        "where: $\\binom{t}{x}=\\frac{t!}{(t-p)!p!}$\n",
        "\n",
        "\n",
        "##### Example:\n",
        "<figure>\n",
        "  <IMG src=\"figures/one-dice.jpg\" WIDTH=100  ALIGN=\"right\">\n",
        "</figure>\n",
        "We throw a dice $10$ times and we want to study the binomial variable $x$= {number of times a number<= 3 cames out}.  The parameters of the problem are:\n",
        "<ol>\n",
        "   <li>  $t=10$ </li>\n",
        "   <li>  $p=3*\\frac{1}{6}=0.5$ </li>\n",
        "   <li> $q=1-p=0.5$ </li>\n",
        "</ol>\n",
        "\n",
        "Let's now simulate this experiment:"
      ]
    },
    {
      "cell_type": "code",
      "execution_count": 22,
      "metadata": {
        "colab": {
          "base_uri": "https://localhost:8080/",
          "height": 430
        },
        "id": "0jkQ-VHeEkJh",
        "outputId": "881c49ce-a6a0-4279-d274-a90e847eee37"
      },
      "outputs": [
        {
          "data": {
            "image/png": "[encoded data removed]",
            "text/plain": [
              "<Figure size 640x480 with 1 Axes>"
            ]
          },
          "metadata": {},
          "output_type": "display_data"
        }
      ],
      "source": [
        "#Initializing Binomial distribution parameters\n",
        "N = 1000\n",
        "t = 10\n",
        "p = 0.5\n",
        "#Generate the Binomial probability distribution\n",
        "#Then Plot\n",
        "P1 = rnd.binomial(t,p,N)\n",
        "plt.plot(P1)\n",
        "plt.show()"
      ]
    },
    {
      "cell_type": "markdown",
      "metadata": {
        "id": "CzJ0o7NaEkJh"
      },
      "source": [
        "We now evaluate the probability density function as follows:"
      ]
    },
    {
      "cell_type": "code",
      "execution_count": 23,
      "metadata": {
        "colab": {
          "base_uri": "https://localhost:8080/",
          "height": 430
        },
        "id": "O1NBu-GoEkJh",
        "outputId": "62cb3727-f56c-49c6-a462-d34021c3c323"
      },
      "outputs": [
        {
          "data": {
            "image/png": "[encoded data removed]",
            "text/plain": [
              "<Figure size 640x480 with 1 Axes>"
            ]
          },
          "metadata": {},
          "output_type": "display_data"
        }
      ],
      "source": [
        "plt.figure()\n",
        "plt.hist(P1, density=True, alpha=0.8, histtype='bar',\n",
        "color = 'green', ec='black')\n",
        "plt.show()"
      ]
    },
    {
      "cell_type": "markdown",
      "metadata": {
        "id": "fCS6IwLiEkJh"
      },
      "source": [
        "We can see that all the areas of the binomial distributions, that is, the sum of the rectangles, being the sum of probability, are worth 1.\n",
        "\n",
        "#### Normal distribution\n",
        "The normal distribution is the most used continuous distribution in statistics. Recall that the probability density distribution of the normal distribution is given as follows:\n",
        "\n",
        "$f(x)=\\frac{1}{\\sqrt{2\\pi\\sigma^2}}e^{-(x-\\mu)^2/2\\sigma^2}$\n",
        "\n",
        "##### Example:\n",
        "The average height of $18$-year old boys of $1000$ boys is normally distributed with a mean of $180$ cm and a standard deviation of $7$ cm. The parameters of the problem are:\n",
        "<ol>\n",
        "   <li>  $\\mu=180$ </li>\n",
        "   <li>  $\\sigma=7$ </li>\n",
        "</ol>\n",
        "\n",
        "Now, let’s generate a normal distribution and evaluate the probability density function with Python code as follows"
      ]
    },
    {
      "cell_type": "code",
      "execution_count": 24,
      "metadata": {
        "colab": {
          "base_uri": "https://localhost:8080/",
          "height": 673
        },
        "id": "o5LxgSYqEkJh",
        "outputId": "48d47fc7-fda5-41e5-aeec-2744349597f9"
      },
      "outputs": [
        {
          "name": "stderr",
          "output_type": "stream",
          "text": [
            "<ipython-input-24-1c1b1bd06094>:11: UserWarning: \n",
            "\n",
            "`distplot` is a deprecated function and will be removed in seaborn v0.14.0.\n",
            "\n",
            "Please adapt your code to use either `displot` (a figure-level function with\n",
            "similar flexibility) or `histplot` (an axes-level function for histograms).\n",
            "\n",
            "For a guide to updating your code to use the new functions, please see\n",
            "https://gist.github.com/mwaskom/de44147ed2974457ad6372750bbe5751\n",
            "\n",
            "  Plot = sns.distplot(P1)\n"
          ]
        },
        {
          "data": {
            "text/plain": [
              "<Figure size 640x480 with 0 Axes>"
            ]
          },
          "execution_count": 24,
          "metadata": {},
          "output_type": "execute_result"
        },
        {
          "data": {
            "image/png": "[encoded data removed]",
            "text/plain": [
              "<Figure size 640x480 with 1 Axes>"
            ]
          },
          "metadata": {},
          "output_type": "display_data"
        },
        {
          "data": {
            "text/plain": [
              "<Figure size 640x480 with 0 Axes>"
            ]
          },
          "metadata": {},
          "output_type": "display_data"
        }
      ],
      "source": [
        "import numpy as np\n",
        "import matplotlib.pyplot as plt\n",
        "import seaborn as sns\n",
        "#Initializing Normal distribution parameters\n",
        "mu = 180\n",
        "sigma =7\n",
        "N=1000\n",
        "#Generate the Normal probability distribution\n",
        "P1 = rnd.normal(mu, sigma, N)\n",
        "#Then Plot\n",
        "Plot = sns.distplot(P1)\n",
        "plt.figure()"
      ]
    },
    {
      "cell_type": "markdown",
      "metadata": {
        "id": "tCLVgpqnEkJh"
      },
      "source": [
        "We can see that the distribution of the 1000 samples populations follow a normal distribution as ploted by `sns.distplot()` function"
      ]
    },
    {
      "cell_type": "markdown",
      "metadata": {
        "id": "ytORZuPEEkJh"
      },
      "source": [
        "## Approximating Probability throught Simulation\n",
        "### Flipping a coin\n",
        " Let's flip a coin $n$ times and computes the probability via simulation by counting the number of heads (0) and the number of tails (1). Note that the theoritical probability of getting a head or tail when flipping a coin is $p(x=0)=p(x=1)=0.5$.To compute the probability via simulation, we apply the relative frequency and probability concept seen in the course:\n",
        " $f(E)=\\frac{v}{n}\\cong P(E)$.\n",
        " Where $v$ is number of the times the event $E$ occurred and $n$ the number of tests carried out"
      ]
    },
    {
      "cell_type": "code",
      "execution_count": 25,
      "metadata": {
        "colab": {
          "base_uri": "https://localhost:8080/",
          "height": 486
        },
        "id": "utXAePwEEkJh",
        "outputId": "c386ff56-8160-425d-b88b-3a0629863f87"
      },
      "outputs": [
        {
          "name": "stdout",
          "output_type": "stream",
          "text": [
            "outcome 0 is 55 with probability=0.55\n",
            "outcome 1 is 45 with probability=0.45\n"
          ]
        },
        {
          "data": {
            "image/png": "[encoded data removed]",
            "text/plain": [
              "<Figure size 640x480 with 1 Axes>"
            ]
          },
          "metadata": {},
          "output_type": "display_data"
        }
      ],
      "source": [
        "rnd.seed(10)\n",
        "n=100\n",
        "flip = rnd.randint(0, 2, n)\n",
        "\n",
        "outcomes = np.zeros(2, dtype='int') # Two outcomes. heads are stored in outcome[0], tails in outcome[1]\n",
        "for i in range (2):\n",
        "    outcomes[i] = np.count_nonzero(flip == i)\n",
        "    print(f'outcome {i} is {outcomes[i]} with probability={outcomes[i]/n}')\n",
        "\n",
        "plt.bar(range(0, 2), outcomes/n)\n",
        "plt.xticks(range(0, 2))\n",
        "plt.xlabel('Probability of Head/tails')\n",
        "plt.ylabel('occurence in '+str(n)+' trials');"
      ]
    },
    {
      "cell_type": "markdown",
      "metadata": {
        "id": "pAho_30rEkJh"
      },
      "source": [
        "Now let's increase the numner of experiments and plot the probability simulation results"
      ]
    },
    {
      "cell_type": "code",
      "execution_count": 26,
      "metadata": {
        "colab": {
          "base_uri": "https://localhost:8080/",
          "height": 468
        },
        "id": "T4Qji7voEkJh",
        "outputId": "daa9218a-d86b-42ce-e218-8a8a4036e825"
      },
      "outputs": [
        {
          "data": {
            "text/plain": [
              "<matplotlib.legend.Legend at 0x7d52e06f43d0>"
            ]
          },
          "execution_count": 26,
          "metadata": {},
          "output_type": "execute_result"
        },
        {
          "data": {
            "image/png": "[encoded data removed]",
            "text/plain": [
              "<Figure size 640x480 with 1 Axes>"
            ]
          },
          "metadata": {},
          "output_type": "display_data"
        }
      ],
      "source": [
        "experiments=np.arange(100, 100001, 100)\n",
        "\n",
        "outcomes_head=np.zeros(len(experiments))\n",
        "outcomes_tail=np.zeros(len(experiments))\n",
        "\n",
        "\n",
        "\n",
        "\n",
        "rnd.seed(10)\n",
        "i=0\n",
        "for n in experiments:\n",
        "    flip = rnd.randint(0, 2, n)\n",
        "    outcomes_head[i] = np.count_nonzero(flip == 0)/n\n",
        "    outcomes_tail[i] = np.count_nonzero(flip == 1)/n\n",
        "    i=i+1\n",
        "\n",
        "\n",
        "plt.plot(experiments, outcomes_head,label='Simulation (Head)')\n",
        "plt.plot(experiments, outcomes_tail,label='Simulation (Tail)')\n",
        "plt.hlines(y = 0.5, xmin = experiments[0], xmax = experiments[-1],colors=\"black\",label='Theoritical')\n",
        "plt.xlabel('Itteration $n$')\n",
        "plt.ylabel('Probability');\n",
        "plt.legend()"
      ]
    },
    {
      "cell_type": "markdown",
      "metadata": {
        "id": "3cjOrrtKEkJn"
      },
      "source": [
        "We can see that the probability computed by simulation eventually converges to the true value as more experiments are conducted."
      ]
    },
    {
      "cell_type": "markdown",
      "metadata": {
        "id": "WJK2vdFYEkJn"
      },
      "source": [
        "## Challenges\n",
        "### Challenge 5: Birth Weight of New Born Babies\n",
        "The birth weight (in kilograms) of the $3.226$ new born babies is normally distributed with a mean of $3.39$ klg and a standard deviation of $0.55$ klg.\n",
        "Define your problem parameters.\n",
        "Generate the normal distribution and evaluate the probability density function."
      ]
    },
    {
      "cell_type": "code",
      "execution_count": 27,
      "metadata": {
        "id": "NC8mg3OUEkJn"
      },
      "outputs": [],
      "source": [
        "#Your code here"
      ]
    },
    {
      "cell_type": "markdown",
      "metadata": {
        "id": "xyc_1HV0EkJn"
      },
      "source": [
        "### Challenge 6: Crime Survey\n",
        "An FBI survey of 1000 reports shows that about 80% of all property crimes go unsolved. Suppose that in your town 3 such crimes are committed and they are each deemed independent of each other.\n",
        "<ol>\n",
        "  <li>Simulate this experiement and evaluate the probability density function</li>\n",
        "  <li>Compute the probability that 1 of 3 of these crimes will be solved?</li>\n",
        "</ol>\n",
        "\n",
        "#### Hint\n",
        "The problem above follows a binomial distribution since the following conditions are satisfied:\n",
        "<ul>\n",
        "  <li>Does it satisfy a fixed number of trials? YES the number of trials is fixed at 3 </li>\n",
        "  <li>Does it have only 2 outcomes? YES (Solved and unsolved)</li>\n",
        "  <li>Do all the trials have the same probability of success? YES (p = (100%-80%)=0.2)</li>\n",
        "</ul>\n"
      ]
    },
    {
      "cell_type": "code",
      "execution_count": 28,
      "metadata": {
        "id": "xgaFrga0EkJn"
      },
      "outputs": [],
      "source": [
        "#Your code here"
      ]
    },
    {
      "cell_type": "markdown",
      "metadata": {
        "id": "p-LOxNmgEkJn"
      },
      "source": [
        " ### Challenge 7: Throwing a dice\n",
        "Using the 1st code in the above experiment (Flipping a coin),  throw a dice with $n=100$ times and report how many times you throw $1, 2, 3, 4, 5,$ and $6$. Use a seed of $33$. Make sure that the reported values add up to $100$. What is the theoritical probability of each event."
      ]
    },
    {
      "cell_type": "code",
      "execution_count": 29,
      "metadata": {
        "id": "UEzBUmM9EkJn"
      },
      "outputs": [],
      "source": [
        "#Your code here"
      ]
    },
    {
      "cell_type": "markdown",
      "metadata": {
        "id": "KInH4IfVEkJn"
      },
      "source": [
        "Now Using the 2nd code in the Flipping a coin experiment, plot the probability simulation results and compare it with the theoritical probability."
      ]
    },
    {
      "cell_type": "code",
      "execution_count": 30,
      "metadata": {
        "id": "L4gD81IYEkJn"
      },
      "outputs": [],
      "source": [
        "#Your code here"
      ]
    },
    {
      "cell_type": "markdown",
      "metadata": {
        "id": "rbN-Gb8bEkJn"
      },
      "source": [
        "### Challenge 8: Drawing balls from a box\n",
        "Suppose there are 12 balls in a box: 4 black, 4 red, and 4 blue. We want to make a program that draws n balls at random from the box. It is natural to represent the collection of balls as a list. Each list element can be an integer 1, 2, or 3, since we have 3 different types of balls, but it would be easier to work with the program if the balls could have a color instead of an integer number. This is easily accomplished by defining color names (See `new_box()` function below). Drawing a ball at random is performed by the `draw_ball()` function. Similarly, drawing n balls can be performed using the `draw_n_balls()` function."
      ]
    },
    {
      "cell_type": "code",
      "execution_count": 31,
      "metadata": {
        "id": "5oktHSVEEkJn"
      },
      "outputs": [],
      "source": [
        "import numpy.random as rnd\n",
        "\n",
        "def new_box():\n",
        "    colors = 'black', 'red', 'blue'   # (tuple of strings)\n",
        "    box = []\n",
        "    for color in colors:\n",
        "        for i in range(4):\n",
        "            box.append(color)\n",
        "    return box\n",
        "\n",
        "def draw_ball(box):\n",
        "    color = rnd.choice(box)\n",
        "    box.remove(color)\n",
        "    return color, box\n",
        "\n",
        "def draw_n_balls(box,n):\n",
        "# Draw n balls from the box\n",
        "    balls = []\n",
        "    for i in range(n):\n",
        "        color, box = draw_ball(box)\n",
        "        balls.append(color)\n",
        "    return balls\n"
      ]
    },
    {
      "cell_type": "markdown",
      "metadata": {
        "id": "V1fvSxEbEkJn"
      },
      "source": [
        "#### Question\n",
        "Now, we ask you to compute the probability of drawing 2 or more black balls from that box via experiemntal simulation. To do so, perform `N` experiments, count how many times `M` you get 2 or more black balls, and estimate the probability as `M/N`. Each experiment consists of making the box list, drawing a number of balls, and counting how many black balls we got. The latter task is easy with the count method in list objects: `box.count('black')` counts how many elements with value 'black' we have in the list box.\n",
        "Given:\n",
        "<ul>\n",
        "  <li>n as how  many balls are to be drawn? </li>\n",
        "  <li>N as how many experiments?</li>\n",
        "</ul>\n",
        " Write a python program using the functions defined just above to compute the required probability.\n",
        " Run your program with n=5 (drawing 5 balls each time) and N=4000 and reports the probability result.\n",
        " Try with other n values and report what differs from the obtained results."
      ]
    },
    {
      "cell_type": "code",
      "execution_count": 32,
      "metadata": {
        "colab": {
          "base_uri": "https://localhost:8080/"
        },
        "id": "RwNf4RAcEkJn",
        "outputId": "951602b3-bf28-497a-bd5f-23ae932aaa0e"
      },
      "outputs": [
        {
          "name": "stdout",
          "output_type": "stream",
          "text": [
            "Probability:0.00\n"
          ]
        }
      ],
      "source": [
        "n = 2\n",
        "N = 4000\n",
        "\n",
        "prob=0\n",
        "#complete your code here to compute and print the prob\n",
        "#.......\n",
        "print ('Probability:' \"{:.2f}\".format(prob))"
      ]
    },
    {
      "cell_type": "markdown",
      "metadata": {
        "id": "9Ha-yzrzEkJn"
      },
      "source": [
        "## Simulating Synthetic Data using Probability Distributions\n",
        "Synthetic data is computer-generated data that is similar to real-world data. The primary purpose of synthetics data is to increase the privacy and integrity of systems. For example, to protect the Personally Identifiable Information (PII) or Personal Health Information (PHI) of the users, companies have to implement data protection strategies. Using synthetic data can help companies test new applications and protect user privacy.\n",
        "\n",
        "For this purpose, We will use the Python Faker library. Faker is an open-source Python package used to simulate a fake dataset for application testing, bootstrapping the database, and maintaining user anonymity.\n",
        "To learn about more advanced functions, check out the Faker documentation (https://faker.readthedocs.io/en/master/fakerclass.html)."
      ]
    },
    {
      "cell_type": "code",
      "execution_count": 33,
      "metadata": {
        "colab": {
          "base_uri": "https://localhost:8080/"
        },
        "id": "MBkAI_ZVEkJn",
        "outputId": "c98723f9-77a8-4cfc-fc30-2f93e478f2af"
      },
      "outputs": [
        {
          "name": "stdout",
          "output_type": "stream",
          "text": [
            "Collecting Faker\n",
            "  Downloading Faker-23.3.0-py3-none-any.whl (1.8 MB)\n",
            "\u001b[?25l     \u001b[90m━━━━━━━━━━━━━━━━━━━━━━━━━━━━━━━━━━━━━━━━\u001b[0m \u001b[32m0.0/1.8 MB\u001b[0m \u001b[31m?\u001b[0m eta \u001b[36m-:--:--\u001b[0m\r\u001b[2K     \u001b[91m━━━━━━\u001b[0m\u001b[91m╸\u001b[0m\u001b[90m━━━━━━━━━━━━━━━━━━━━━━━━━━━━━━━━━\u001b[0m \u001b[32m0.3/1.8 MB\u001b[0m \u001b[31m9.2 MB/s\u001b[0m eta \u001b[36m0:00:01\u001b[0m\r\u001b[2K     \u001b[90m━━━━━━━━━━━━━━━━━━━━━━━━━━━━━━━━━━━━━━━━\u001b[0m \u001b[32m1.8/1.8 MB\u001b[0m \u001b[31m26.4 MB/s\u001b[0m eta \u001b[36m0:00:00\u001b[0m\n",
            "\u001b[?25hRequirement already satisfied: python-dateutil>=2.4 in /usr/local/lib/python3.10/dist-packages (from Faker) (2.8.2)\n",
            "Requirement already satisfied: six>=1.5 in /usr/local/lib/python3.10/dist-packages (from python-dateutil>=2.4->Faker) (1.16.0)\n",
            "Installing collected packages: Faker\n",
            "Successfully installed Faker-23.3.0\n"
          ]
        }
      ],
      "source": [
        "%pip install Faker"
      ]
    },
    {
      "cell_type": "code",
      "execution_count": 34,
      "metadata": {
        "colab": {
          "base_uri": "https://localhost:8080/"
        },
        "id": "mbvnT51HEkJn",
        "outputId": "cacfb176-e37e-4ed4-d73a-2547da360dc8"
      },
      "outputs": [
        {
          "name": "stdout",
          "output_type": "stream",
          "text": [
            "Requirement already satisfied: pandas in /usr/local/lib/python3.10/dist-packages (1.5.3)\n",
            "Requirement already satisfied: python-dateutil>=2.8.1 in /usr/local/lib/python3.10/dist-packages (from pandas) (2.8.2)\n",
            "Requirement already satisfied: pytz>=2020.1 in /usr/local/lib/python3.10/dist-packages (from pandas) (2023.4)\n",
            "Requirement already satisfied: numpy>=1.21.0 in /usr/local/lib/python3.10/dist-packages (from pandas) (1.25.2)\n",
            "Requirement already satisfied: six>=1.5 in /usr/local/lib/python3.10/dist-packages (from python-dateutil>=2.8.1->pandas) (1.16.0)\n"
          ]
        }
      ],
      "source": [
        "%pip install pandas"
      ]
    },
    {
      "cell_type": "markdown",
      "metadata": {
        "id": "3h-ZSOYEEkJn"
      },
      "source": [
        "Faker comes with command line support, Pytest fixtures, Localization (support different regions), reproducibility, and dynamic provider (customizing it to your needs).\n",
        "You can also use Faker's basic functionalities to create a quick dataset and customize it to your needs. In the table below, you can check various Faker functions and the purpose.\n",
        "\n",
        "| Faker Function  | Purpose                                       |\n",
        "|-----------------|-----------------------------------------------|\n",
        "| name()          | Generates fake full name                      |\n",
        "| credit_card_full() | Generates credit card number with expiry and CVV |\n",
        "| email()         | Generates fake email address                   |\n",
        "| url()           | Generate fake URL                              |\n",
        "| phone_number()  | Generates fake phone number with country code  |\n",
        "| address()       | Generates fake full address                    |\n",
        "| license_plate() | Generates fake license plate                   |\n",
        "| currency()      | Generate tuple of currency code and full form  |\n",
        "| color_name()    | Generate random color name                     |\n",
        "| local_latlng()  | Generate latitude, longitude, area, country, and states |\n",
        "| domain_name()   | Generate the fake website based on fake person name |\n",
        "| text()          | Generate the fake small text                   |\n",
        "| company()       | Generate fake company name                     |\n",
        "\n",
        "\n",
        "\n",
        "\n"
      ]
    },
    {
      "cell_type": "markdown",
      "metadata": {
        "id": "YNE5BR4XEkJn"
      },
      "source": [
        "### Synthetic Data Simulation Examples\n",
        "In this section, we will use Python Faker to simulate synthetics data. It consists of an example of how you can use `Faker` for various tasks. The main goal is to develop a privacy-centric approach for testing systems.\n",
        "\n",
        "First, we will initiate a fake generator using `Faker()`. By default, it is using the `en_US` locale."
      ]
    },
    {
      "cell_type": "code",
      "execution_count": 35,
      "metadata": {
        "id": "2JuwNuY_EkJn"
      },
      "outputs": [],
      "source": [
        "from faker import Faker\n",
        "fake = Faker()"
      ]
    },
    {
      "cell_type": "markdown",
      "metadata": {
        "id": "ecgZbVOWEkJn"
      },
      "source": [
        "#### Example:\n",
        "In this example, we will create a pandas dataframe that contains fake data.\n",
        "\n",
        "- Create empty pandas dataframe (data)\n",
        "- Pass it through x number of loops to create multiple rows\n",
        "- Use  prebuilt  functions such as `random_int()`, `name()`, `address()`, `latitude()`, and `longitude()`  to generate the columns accordingley.\n",
        "- Use `uniform()` prebult random function to generate the `Weight` feature.\n",
        "- Run the `input_data()` function with n_rows=50"
      ]
    },
    {
      "cell_type": "code",
      "execution_count": 36,
      "metadata": {
        "colab": {
          "base_uri": "https://localhost:8080/",
          "height": 1000
        },
        "id": "nVYrwm2SEkJn",
        "outputId": "7909945f-69cb-4daf-88c0-8610564a50f3"
      },
      "outputs": [
        {
          "data": {
            "application/vnd.google.colaboratory.intrinsic+json": {
              "summary": "{\n  \"name\": \"input_data(50)\",\n  \"rows\": 50,\n  \"fields\": [\n    {\n      \"column\": \"name\",\n      \"properties\": {\n        \"dtype\": \"string\",\n        \"num_unique_values\": 50,\n        \"samples\": [\n          \"Katherine Hubbard\",\n          \"Steven Morgan\",\n          \"Robert Weber\"\n        ],\n        \"semantic_type\": \"\",\n        \"description\": \"\"\n      }\n    },\n    {\n      \"column\": \"age\",\n      \"properties\": {\n        \"dtype\": \"number\",\n        \"std\": 23.70467963788361,\n        \"min\": 19.0,\n        \"max\": 98.0,\n        \"num_unique_values\": 36,\n        \"samples\": [\n          35.0,\n          42.0,\n          66.0\n        ],\n        \"semantic_type\": \"\",\n        \"description\": \"\"\n      }\n    },\n    {\n      \"column\": \"Weight\",\n      \"properties\": {\n        \"dtype\": \"number\",\n        \"std\": 11.961992168880933,\n        \"min\": 60.33590586854847,\n        \"max\": 99.91329869295554,\n        \"num_unique_values\": 50,\n        \"samples\": [\n          65.5725858062693,\n          62.839630167459205,\n          75.14226866374105\n        ],\n        \"semantic_type\": \"\",\n        \"description\": \"\"\n      }\n    },\n    {\n      \"column\": \"height\",\n      \"properties\": {\n        \"dtype\": \"number\",\n        \"std\": 17.73684592915316,\n        \"min\": 148.26864933376345,\n        \"max\": 219.5555582518619,\n        \"num_unique_values\": 50,\n        \"samples\": [\n          183.7783730523642,\n          188.00976181631154,\n          183.77580195968616\n        ],\n        \"semantic_type\": \"\",\n        \"description\": \"\"\n      }\n    },\n    {\n      \"column\": \"bmi\",\n      \"properties\": {\n        \"dtype\": \"number\",\n        \"std\": 6.359791440261553,\n        \"min\": 16.42748696815302,\n        \"max\": 45.449031708486004,\n        \"num_unique_values\": 50,\n        \"samples\": [\n          19.414826108767944,\n          17.777587380051607,\n          22.248854186050174\n        ],\n        \"semantic_type\": \"\",\n        \"description\": \"\"\n      }\n    },\n    {\n      \"column\": \"address\",\n      \"properties\": {\n        \"dtype\": \"string\",\n        \"num_unique_values\": 50,\n        \"samples\": [\n          \"580 Davis Falls Suite 933\\nKimberlyhaven, CO 99914\",\n          \"5308 Gerald Track Suite 169\\nHughesberg, AZ 27105\",\n          \"784 Brett Plain\\nJonesberg, MN 19210\"\n        ],\n        \"semantic_type\": \"\",\n        \"description\": \"\"\n      }\n    },\n    {\n      \"column\": \"latitude\",\n      \"properties\": {\n        \"dtype\": \"string\",\n        \"num_unique_values\": 50,\n        \"samples\": [\n          \"-36.546364\",\n          \"-34.1597255\",\n          \"35.8463665\"\n        ],\n        \"semantic_type\": \"\",\n        \"description\": \"\"\n      }\n    },\n    {\n      \"column\": \"longitude\",\n      \"properties\": {\n        \"dtype\": \"string\",\n        \"num_unique_values\": 50,\n        \"samples\": [\n          \"-3.103521\",\n          \"-112.106784\",\n          \"-136.865244\"\n        ],\n        \"semantic_type\": \"\",\n        \"description\": \"\"\n      }\n    }\n  ]\n}",
              "type": "dataframe"
            },
            "text/html": [
              "\n",
              "  <div id=\"df-d2aeedb2-d471-40f1-8d37-87c7fd825151\" class=\"colab-df-container\">\n",
              "    <div>\n",
              "<style scoped>\n",
              "    .dataframe tbody tr th:only-of-type {\n",
              "        vertical-align: middle;\n",
              "    }\n",
              "\n",
              "    .dataframe tbody tr th {\n",
              "        vertical-align: top;\n",
              "    }\n",
              "\n",
              "    .dataframe thead th {\n",
              "        text-align: right;\n",
              "    }\n",
              "</style>\n",
              "<table border=\"1\" class=\"dataframe\">\n",
              "  <thead>\n",
              "    <tr style=\"text-align: right;\">\n",
              "      <th></th>\n",
              "      <th>name</th>\n",
              "      <th>age</th>\n",
              "      <th>Weight</th>\n",
              "      <th>height</th>\n",
              "      <th>bmi</th>\n",
              "      <th>address</th>\n",
              "      <th>latitude</th>\n",
              "      <th>longitude</th>\n",
              "    </tr>\n",
              "  </thead>\n",
              "  <tbody>\n",
              "    <tr>\n",
              "      <th>0</th>\n",
              "      <td>Lisa Ward</td>\n",
              "      <td>22.0</td>\n",
              "      <td>88.025330</td>\n",
              "      <td>166.597129</td>\n",
              "      <td>31.715579</td>\n",
              "      <td>633 Haynes Freeway Suite 925\\nHowellport, PA 9...</td>\n",
              "      <td>46.2982145</td>\n",
              "      <td>-11.392734</td>\n",
              "    </tr>\n",
              "    <tr>\n",
              "      <th>1</th>\n",
              "      <td>Anthony Burgess</td>\n",
              "      <td>30.0</td>\n",
              "      <td>76.074558</td>\n",
              "      <td>203.607191</td>\n",
              "      <td>18.350724</td>\n",
              "      <td>38027 Wang Parks Suite 806\\nPort Sarabury, DE ...</td>\n",
              "      <td>-4.651950</td>\n",
              "      <td>-32.832593</td>\n",
              "    </tr>\n",
              "    <tr>\n",
              "      <th>2</th>\n",
              "      <td>Kelly Williams</td>\n",
              "      <td>27.0</td>\n",
              "      <td>86.868560</td>\n",
              "      <td>162.879591</td>\n",
              "      <td>32.743815</td>\n",
              "      <td>285 Morris Cliffs\\nMiaberg, OH 83306</td>\n",
              "      <td>-20.011271</td>\n",
              "      <td>-46.106907</td>\n",
              "    </tr>\n",
              "    <tr>\n",
              "      <th>3</th>\n",
              "      <td>Natasha Hickman</td>\n",
              "      <td>63.0</td>\n",
              "      <td>79.340415</td>\n",
              "      <td>206.655423</td>\n",
              "      <td>18.578081</td>\n",
              "      <td>Unit 9043 Box 7840\\nDPO AA 66673</td>\n",
              "      <td>40.714667</td>\n",
              "      <td>-1.682302</td>\n",
              "    </tr>\n",
              "    <tr>\n",
              "      <th>4</th>\n",
              "      <td>Christina Deleon</td>\n",
              "      <td>70.0</td>\n",
              "      <td>75.886507</td>\n",
              "      <td>205.213181</td>\n",
              "      <td>18.019970</td>\n",
              "      <td>443 Novak Plains\\nNew David, ND 64791</td>\n",
              "      <td>-54.716272</td>\n",
              "      <td>-60.706452</td>\n",
              "    </tr>\n",
              "    <tr>\n",
              "      <th>5</th>\n",
              "      <td>Katelyn Avila</td>\n",
              "      <td>72.0</td>\n",
              "      <td>63.854668</td>\n",
              "      <td>190.366174</td>\n",
              "      <td>17.620291</td>\n",
              "      <td>22359 Susan Island\\nMaureenville, ID 87229</td>\n",
              "      <td>-8.2555235</td>\n",
              "      <td>-68.336723</td>\n",
              "    </tr>\n",
              "    <tr>\n",
              "      <th>6</th>\n",
              "      <td>Michelle Perez</td>\n",
              "      <td>65.0</td>\n",
              "      <td>91.161971</td>\n",
              "      <td>168.829585</td>\n",
              "      <td>31.982809</td>\n",
              "      <td>7820 Obrien Bypass\\nMarioshire, NC 17571</td>\n",
              "      <td>3.577933</td>\n",
              "      <td>-114.146532</td>\n",
              "    </tr>\n",
              "    <tr>\n",
              "      <th>7</th>\n",
              "      <td>Deanna Mccoy</td>\n",
              "      <td>33.0</td>\n",
              "      <td>71.978807</td>\n",
              "      <td>162.356890</td>\n",
              "      <td>27.306321</td>\n",
              "      <td>895 Khan Greens\\nSouth Michael, MN 74966</td>\n",
              "      <td>81.6632025</td>\n",
              "      <td>11.537407</td>\n",
              "    </tr>\n",
              "    <tr>\n",
              "      <th>8</th>\n",
              "      <td>Gregory Brown</td>\n",
              "      <td>50.0</td>\n",
              "      <td>91.847576</td>\n",
              "      <td>175.742313</td>\n",
              "      <td>29.738224</td>\n",
              "      <td>0840 Mccoy Orchard\\nSouth Michaelside, WA 06961</td>\n",
              "      <td>-62.507860</td>\n",
              "      <td>-81.096575</td>\n",
              "    </tr>\n",
              "    <tr>\n",
              "      <th>9</th>\n",
              "      <td>Dr. Lisa Roberts MD</td>\n",
              "      <td>94.0</td>\n",
              "      <td>80.082087</td>\n",
              "      <td>185.479109</td>\n",
              "      <td>23.277985</td>\n",
              "      <td>55570 Douglas Shore Suite 419\\nGomezbury, MO 2...</td>\n",
              "      <td>-54.016057</td>\n",
              "      <td>-114.021602</td>\n",
              "    </tr>\n",
              "    <tr>\n",
              "      <th>10</th>\n",
              "      <td>Linda Carroll</td>\n",
              "      <td>43.0</td>\n",
              "      <td>74.199654</td>\n",
              "      <td>152.019318</td>\n",
              "      <td>32.107340</td>\n",
              "      <td>711 Pollard Unions\\nDavidborough, UT 99208</td>\n",
              "      <td>4.249304</td>\n",
              "      <td>-145.412454</td>\n",
              "    </tr>\n",
              "    <tr>\n",
              "      <th>11</th>\n",
              "      <td>Sandy Morton</td>\n",
              "      <td>86.0</td>\n",
              "      <td>88.380092</td>\n",
              "      <td>175.903521</td>\n",
              "      <td>28.563103</td>\n",
              "      <td>9999 Scott Branch\\nEast Christystad, ND 18398</td>\n",
              "      <td>24.8459405</td>\n",
              "      <td>27.202954</td>\n",
              "    </tr>\n",
              "    <tr>\n",
              "      <th>12</th>\n",
              "      <td>Joseph Hawkins</td>\n",
              "      <td>87.0</td>\n",
              "      <td>96.785226</td>\n",
              "      <td>210.928361</td>\n",
              "      <td>21.754000</td>\n",
              "      <td>04285 Sharon Lake Apt. 885\\nNew Laurenfort, OK...</td>\n",
              "      <td>32.393116</td>\n",
              "      <td>-64.467939</td>\n",
              "    </tr>\n",
              "    <tr>\n",
              "      <th>13</th>\n",
              "      <td>Katherine Hubbard</td>\n",
              "      <td>43.0</td>\n",
              "      <td>65.572586</td>\n",
              "      <td>183.778373</td>\n",
              "      <td>19.414826</td>\n",
              "      <td>580 Davis Falls Suite 933\\nKimberlyhaven, CO 9...</td>\n",
              "      <td>-36.546364</td>\n",
              "      <td>-3.103521</td>\n",
              "    </tr>\n",
              "    <tr>\n",
              "      <th>14</th>\n",
              "      <td>Robert Patel</td>\n",
              "      <td>42.0</td>\n",
              "      <td>61.378455</td>\n",
              "      <td>154.305476</td>\n",
              "      <td>25.778241</td>\n",
              "      <td>436 Mayo Gateway Apt. 020\\nEast John, IN 94772</td>\n",
              "      <td>-87.1203095</td>\n",
              "      <td>7.032576</td>\n",
              "    </tr>\n",
              "    <tr>\n",
              "      <th>15</th>\n",
              "      <td>Megan Thomas</td>\n",
              "      <td>93.0</td>\n",
              "      <td>82.943609</td>\n",
              "      <td>157.354166</td>\n",
              "      <td>33.498583</td>\n",
              "      <td>3299 Melanie Station\\nClarkefort, MD 18619</td>\n",
              "      <td>62.050670</td>\n",
              "      <td>-136.269369</td>\n",
              "    </tr>\n",
              "    <tr>\n",
              "      <th>16</th>\n",
              "      <td>Danielle Flores</td>\n",
              "      <td>58.0</td>\n",
              "      <td>94.118942</td>\n",
              "      <td>168.530904</td>\n",
              "      <td>33.137362</td>\n",
              "      <td>7357 David View\\nLake Rebecca, ID 25125</td>\n",
              "      <td>-45.285777</td>\n",
              "      <td>177.723808</td>\n",
              "    </tr>\n",
              "    <tr>\n",
              "      <th>17</th>\n",
              "      <td>April Sanders</td>\n",
              "      <td>20.0</td>\n",
              "      <td>60.768476</td>\n",
              "      <td>180.587600</td>\n",
              "      <td>18.633846</td>\n",
              "      <td>782 Jimenez Lodge Suite 537\\nSavannahville, NM...</td>\n",
              "      <td>-63.813683</td>\n",
              "      <td>-111.192285</td>\n",
              "    </tr>\n",
              "    <tr>\n",
              "      <th>18</th>\n",
              "      <td>Crystal Villarreal</td>\n",
              "      <td>41.0</td>\n",
              "      <td>95.543508</td>\n",
              "      <td>188.279782</td>\n",
              "      <td>26.952174</td>\n",
              "      <td>198 David Walks Suite 055\\nWest Hannah, NE 36949</td>\n",
              "      <td>32.801164</td>\n",
              "      <td>55.586257</td>\n",
              "    </tr>\n",
              "    <tr>\n",
              "      <th>19</th>\n",
              "      <td>James Ford</td>\n",
              "      <td>61.0</td>\n",
              "      <td>69.616552</td>\n",
              "      <td>198.204142</td>\n",
              "      <td>17.720952</td>\n",
              "      <td>7062 Hunter Summit Suite 142\\nEast Davetown, O...</td>\n",
              "      <td>16.507469</td>\n",
              "      <td>-42.961202</td>\n",
              "    </tr>\n",
              "    <tr>\n",
              "      <th>20</th>\n",
              "      <td>Kevin Watson</td>\n",
              "      <td>26.0</td>\n",
              "      <td>99.913299</td>\n",
              "      <td>148.268649</td>\n",
              "      <td>45.449032</td>\n",
              "      <td>06502 James Crest\\nPort Nicholaschester, AZ 87153</td>\n",
              "      <td>-46.4858645</td>\n",
              "      <td>68.380166</td>\n",
              "    </tr>\n",
              "    <tr>\n",
              "      <th>21</th>\n",
              "      <td>Joshua Walton</td>\n",
              "      <td>67.0</td>\n",
              "      <td>96.014591</td>\n",
              "      <td>205.404032</td>\n",
              "      <td>22.757225</td>\n",
              "      <td>98971 Scott Prairie\\nPort Staceyton, OK 84484</td>\n",
              "      <td>87.328275</td>\n",
              "      <td>-73.065882</td>\n",
              "    </tr>\n",
              "    <tr>\n",
              "      <th>22</th>\n",
              "      <td>Shane Rogers</td>\n",
              "      <td>19.0</td>\n",
              "      <td>60.678140</td>\n",
              "      <td>192.189901</td>\n",
              "      <td>16.427487</td>\n",
              "      <td>166 Cohen Stream\\nWest Luis, AK 85999</td>\n",
              "      <td>-47.7766265</td>\n",
              "      <td>-81.654178</td>\n",
              "    </tr>\n",
              "    <tr>\n",
              "      <th>23</th>\n",
              "      <td>Michael Conner</td>\n",
              "      <td>22.0</td>\n",
              "      <td>88.272216</td>\n",
              "      <td>194.281923</td>\n",
              "      <td>23.386178</td>\n",
              "      <td>8584 Logan Summit\\nEdwardsmouth, NJ 19373</td>\n",
              "      <td>46.278654</td>\n",
              "      <td>-73.090445</td>\n",
              "    </tr>\n",
              "    <tr>\n",
              "      <th>24</th>\n",
              "      <td>Rebecca Gardner</td>\n",
              "      <td>76.0</td>\n",
              "      <td>78.121788</td>\n",
              "      <td>188.819914</td>\n",
              "      <td>21.911726</td>\n",
              "      <td>0500 William Shore Suite 313\\nKylebury, RI 02142</td>\n",
              "      <td>-82.739911</td>\n",
              "      <td>-90.233848</td>\n",
              "    </tr>\n",
              "    <tr>\n",
              "      <th>25</th>\n",
              "      <td>Hector Chavez</td>\n",
              "      <td>21.0</td>\n",
              "      <td>74.936342</td>\n",
              "      <td>180.544295</td>\n",
              "      <td>22.989258</td>\n",
              "      <td>062 Alyssa Pike Apt. 876\\nWest Robertton, MA 5...</td>\n",
              "      <td>65.159144</td>\n",
              "      <td>-133.748554</td>\n",
              "    </tr>\n",
              "    <tr>\n",
              "      <th>26</th>\n",
              "      <td>James Lewis</td>\n",
              "      <td>98.0</td>\n",
              "      <td>94.437311</td>\n",
              "      <td>177.694534</td>\n",
              "      <td>29.908558</td>\n",
              "      <td>4054 William Inlet Apt. 283\\nJeannestad, OR 27977</td>\n",
              "      <td>-86.872495</td>\n",
              "      <td>122.192440</td>\n",
              "    </tr>\n",
              "    <tr>\n",
              "      <th>27</th>\n",
              "      <td>Michael Patel</td>\n",
              "      <td>41.0</td>\n",
              "      <td>95.438447</td>\n",
              "      <td>191.632005</td>\n",
              "      <td>25.988863</td>\n",
              "      <td>424 Elizabeth Harbors Suite 248\\nJenkinsfurt, ...</td>\n",
              "      <td>55.559536</td>\n",
              "      <td>-12.529167</td>\n",
              "    </tr>\n",
              "    <tr>\n",
              "      <th>28</th>\n",
              "      <td>Spencer Davenport</td>\n",
              "      <td>38.0</td>\n",
              "      <td>60.335906</td>\n",
              "      <td>182.548978</td>\n",
              "      <td>18.105771</td>\n",
              "      <td>97516 Long Forges Apt. 473\\nJamesbury, WV 46809</td>\n",
              "      <td>-41.7805045</td>\n",
              "      <td>-177.947647</td>\n",
              "    </tr>\n",
              "    <tr>\n",
              "      <th>29</th>\n",
              "      <td>Christine Jacobs</td>\n",
              "      <td>66.0</td>\n",
              "      <td>80.862462</td>\n",
              "      <td>179.609578</td>\n",
              "      <td>25.066170</td>\n",
              "      <td>105 Woods Mountain Apt. 120\\nNorth Michael, CA...</td>\n",
              "      <td>-15.7876285</td>\n",
              "      <td>102.136728</td>\n",
              "    </tr>\n",
              "    <tr>\n",
              "      <th>30</th>\n",
              "      <td>Robert Weber</td>\n",
              "      <td>95.0</td>\n",
              "      <td>75.142269</td>\n",
              "      <td>183.775802</td>\n",
              "      <td>22.248854</td>\n",
              "      <td>784 Brett Plain\\nJonesberg, MN 19210</td>\n",
              "      <td>35.8463665</td>\n",
              "      <td>-136.865244</td>\n",
              "    </tr>\n",
              "    <tr>\n",
              "      <th>31</th>\n",
              "      <td>Rachel Levine</td>\n",
              "      <td>65.0</td>\n",
              "      <td>91.345288</td>\n",
              "      <td>203.793929</td>\n",
              "      <td>21.993972</td>\n",
              "      <td>76512 Hawkins Drives\\nSouth Juan, ME 39157</td>\n",
              "      <td>61.2683815</td>\n",
              "      <td>-114.282697</td>\n",
              "    </tr>\n",
              "    <tr>\n",
              "      <th>32</th>\n",
              "      <td>Ricardo Hawkins</td>\n",
              "      <td>32.0</td>\n",
              "      <td>62.937608</td>\n",
              "      <td>170.035757</td>\n",
              "      <td>21.768561</td>\n",
              "      <td>0813 Richard Via Suite 325\\nRitamouth, KS 63477</td>\n",
              "      <td>-0.4439105</td>\n",
              "      <td>-55.586165</td>\n",
              "    </tr>\n",
              "    <tr>\n",
              "      <th>33</th>\n",
              "      <td>Matthew Chan</td>\n",
              "      <td>24.0</td>\n",
              "      <td>81.008837</td>\n",
              "      <td>197.742037</td>\n",
              "      <td>20.717359</td>\n",
              "      <td>30482 Hobbs Plaza\\nKingchester, IN 22155</td>\n",
              "      <td>27.9306845</td>\n",
              "      <td>-145.174537</td>\n",
              "    </tr>\n",
              "    <tr>\n",
              "      <th>34</th>\n",
              "      <td>David Sanchez</td>\n",
              "      <td>71.0</td>\n",
              "      <td>65.718074</td>\n",
              "      <td>158.587354</td>\n",
              "      <td>26.130500</td>\n",
              "      <td>190 Smith Islands Suite 868\\nLunaland, NE 64544</td>\n",
              "      <td>18.0655195</td>\n",
              "      <td>141.112336</td>\n",
              "    </tr>\n",
              "    <tr>\n",
              "      <th>35</th>\n",
              "      <td>Frederick Sullivan</td>\n",
              "      <td>39.0</td>\n",
              "      <td>64.534065</td>\n",
              "      <td>185.604284</td>\n",
              "      <td>18.733246</td>\n",
              "      <td>1383 Montoya Islands\\nSouth Jamesfurt, IN 68822</td>\n",
              "      <td>50.169268</td>\n",
              "      <td>119.490045</td>\n",
              "    </tr>\n",
              "    <tr>\n",
              "      <th>36</th>\n",
              "      <td>Brian Quinn MD</td>\n",
              "      <td>42.0</td>\n",
              "      <td>67.122526</td>\n",
              "      <td>195.110803</td>\n",
              "      <td>17.632166</td>\n",
              "      <td>11166 Anna Plains Suite 748\\nTaylormouth, NH 9...</td>\n",
              "      <td>-80.6359795</td>\n",
              "      <td>75.725919</td>\n",
              "    </tr>\n",
              "    <tr>\n",
              "      <th>37</th>\n",
              "      <td>William King</td>\n",
              "      <td>72.0</td>\n",
              "      <td>84.914545</td>\n",
              "      <td>185.967075</td>\n",
              "      <td>24.553305</td>\n",
              "      <td>4412 Joseph Turnpike Apt. 588\\nLake Victoria, ...</td>\n",
              "      <td>-1.294040</td>\n",
              "      <td>130.317281</td>\n",
              "    </tr>\n",
              "    <tr>\n",
              "      <th>38</th>\n",
              "      <td>Pedro Morgan</td>\n",
              "      <td>41.0</td>\n",
              "      <td>85.014584</td>\n",
              "      <td>200.700303</td>\n",
              "      <td>21.105584</td>\n",
              "      <td>1377 Wood Estates\\nAndersonton, NM 31005</td>\n",
              "      <td>-7.6711305</td>\n",
              "      <td>-154.249895</td>\n",
              "    </tr>\n",
              "    <tr>\n",
              "      <th>39</th>\n",
              "      <td>Steven Morgan</td>\n",
              "      <td>59.0</td>\n",
              "      <td>62.839630</td>\n",
              "      <td>188.009762</td>\n",
              "      <td>17.777587</td>\n",
              "      <td>5308 Gerald Track Suite 169\\nHughesberg, AZ 27105</td>\n",
              "      <td>-34.1597255</td>\n",
              "      <td>-112.106784</td>\n",
              "    </tr>\n",
              "    <tr>\n",
              "      <th>40</th>\n",
              "      <td>Christopher Foster</td>\n",
              "      <td>50.0</td>\n",
              "      <td>94.254610</td>\n",
              "      <td>218.516148</td>\n",
              "      <td>19.739472</td>\n",
              "      <td>57442 Benjamin Square Suite 397\\nSouth Christo...</td>\n",
              "      <td>-11.840194</td>\n",
              "      <td>175.122580</td>\n",
              "    </tr>\n",
              "    <tr>\n",
              "      <th>41</th>\n",
              "      <td>Marissa Woods</td>\n",
              "      <td>62.0</td>\n",
              "      <td>66.445387</td>\n",
              "      <td>183.130463</td>\n",
              "      <td>19.812699</td>\n",
              "      <td>16080 Durham Cliff Suite 307\\nEdwardburgh, MP ...</td>\n",
              "      <td>48.904398</td>\n",
              "      <td>-33.948171</td>\n",
              "    </tr>\n",
              "    <tr>\n",
              "      <th>42</th>\n",
              "      <td>Alexis Lopez</td>\n",
              "      <td>39.0</td>\n",
              "      <td>75.603715</td>\n",
              "      <td>157.242171</td>\n",
              "      <td>30.577718</td>\n",
              "      <td>8135 Judith Ranch Apt. 467\\nLisaton, MN 15041</td>\n",
              "      <td>-46.6064335</td>\n",
              "      <td>8.213126</td>\n",
              "    </tr>\n",
              "    <tr>\n",
              "      <th>43</th>\n",
              "      <td>Carrie Richardson</td>\n",
              "      <td>90.0</td>\n",
              "      <td>75.885120</td>\n",
              "      <td>185.844612</td>\n",
              "      <td>21.971347</td>\n",
              "      <td>665 Christian Orchard\\nAlexisfort, SC 32050</td>\n",
              "      <td>-55.616933</td>\n",
              "      <td>151.950190</td>\n",
              "    </tr>\n",
              "    <tr>\n",
              "      <th>44</th>\n",
              "      <td>Amber Ramirez</td>\n",
              "      <td>32.0</td>\n",
              "      <td>88.259166</td>\n",
              "      <td>160.493614</td>\n",
              "      <td>34.264493</td>\n",
              "      <td>686 Harris Pines\\nLake Jeffreyborough, KS 15083</td>\n",
              "      <td>79.1776985</td>\n",
              "      <td>155.503578</td>\n",
              "    </tr>\n",
              "    <tr>\n",
              "      <th>45</th>\n",
              "      <td>Dr. Crystal Holt</td>\n",
              "      <td>71.0</td>\n",
              "      <td>93.172803</td>\n",
              "      <td>167.155298</td>\n",
              "      <td>33.346393</td>\n",
              "      <td>1521 Rogers Mountain Apt. 472\\nSouth Cheryl, L...</td>\n",
              "      <td>44.667149</td>\n",
              "      <td>77.596331</td>\n",
              "    </tr>\n",
              "    <tr>\n",
              "      <th>46</th>\n",
              "      <td>Colin Hunt</td>\n",
              "      <td>43.0</td>\n",
              "      <td>77.396781</td>\n",
              "      <td>163.752473</td>\n",
              "      <td>28.863378</td>\n",
              "      <td>USCGC Davis\\nFPO AE 34615</td>\n",
              "      <td>56.058405</td>\n",
              "      <td>-62.950084</td>\n",
              "    </tr>\n",
              "    <tr>\n",
              "      <th>47</th>\n",
              "      <td>Cody Hernandez</td>\n",
              "      <td>24.0</td>\n",
              "      <td>71.173011</td>\n",
              "      <td>183.266095</td>\n",
              "      <td>21.190982</td>\n",
              "      <td>8339 Dawn Rapid Apt. 627\\nRodriguezside, NH 39052</td>\n",
              "      <td>-39.3160485</td>\n",
              "      <td>-147.013286</td>\n",
              "    </tr>\n",
              "    <tr>\n",
              "      <th>48</th>\n",
              "      <td>Bonnie Wilson</td>\n",
              "      <td>35.0</td>\n",
              "      <td>83.640830</td>\n",
              "      <td>219.555558</td>\n",
              "      <td>17.351198</td>\n",
              "      <td>86569 Edwards Shoal\\nHeathfurt, OR 96617</td>\n",
              "      <td>-30.790560</td>\n",
              "      <td>4.492918</td>\n",
              "    </tr>\n",
              "    <tr>\n",
              "      <th>49</th>\n",
              "      <td>Jacob Thompson</td>\n",
              "      <td>94.0</td>\n",
              "      <td>97.157782</td>\n",
              "      <td>162.407493</td>\n",
              "      <td>36.835406</td>\n",
              "      <td>45307 Brandon Key Suite 877\\nEast Robertburgh,...</td>\n",
              "      <td>-79.7205455</td>\n",
              "      <td>31.510089</td>\n",
              "    </tr>\n",
              "  </tbody>\n",
              "</table>\n",
              "</div>\n",
              "    <div class=\"colab-df-buttons\">\n",
              "\n",
              "  <div class=\"colab-df-container\">\n",
              "    <button class=\"colab-df-convert\" onclick=\"convertToInteractive('df-d2aeedb2-d471-40f1-8d37-87c7fd825151')\"\n",
              "            title=\"Convert this dataframe to an interactive table.\"\n",
              "            style=\"display:none;\">\n",
              "\n",
              "  <svg xmlns=\"http://www.w3.org/2000/svg\" height=\"24px\" viewBox=\"0 -960 960 960\">\n",
              "    <path d=\"M120-120v-720h720v720H120Zm60-500h600v-160H180v160Zm220 220h160v-160H400v160Zm0 220h160v-160H400v160ZM180-400h160v-160H180v160Zm440 0h160v-160H620v160ZM180-180h160v-160H180v160Zm440 0h160v-160H620v160Z\"/>\n",
              "  </svg>\n",
              "    </button>\n",
              "\n",
              "  <style>\n",
              "    .colab-df-container {\n",
              "      display:flex;\n",
              "      gap: 12px;\n",
              "    }\n",
              "\n",
              "    .colab-df-convert {\n",
              "      background-color: #E8F0FE;\n",
              "      border: none;\n",
              "      border-radius: 50%;\n",
              "      cursor: pointer;\n",
              "      display: none;\n",
              "      fill: #1967D2;\n",
              "      height: 32px;\n",
              "      padding: 0 0 0 0;\n",
              "      width: 32px;\n",
              "    }\n",
              "\n",
              "    .colab-df-convert:hover {\n",
              "      background-color: #E2EBFA;\n",
              "      box-shadow: 0px 1px 2px rgba(60, 64, 67, 0.3), 0px 1px 3px 1px rgba(60, 64, 67, 0.15);\n",
              "      fill: #174EA6;\n",
              "    }\n",
              "\n",
              "    .colab-df-buttons div {\n",
              "      margin-bottom: 4px;\n",
              "    }\n",
              "\n",
              "    [theme=dark] .colab-df-convert {\n",
              "      background-color: #3B4455;\n",
              "      fill: #D2E3FC;\n",
              "    }\n",
              "\n",
              "    [theme=dark] .colab-df-convert:hover {\n",
              "      background-color: #434B5C;\n",
              "      box-shadow: 0px 1px 3px 1px rgba(0, 0, 0, 0.15);\n",
              "      filter: drop-shadow(0px 1px 2px rgba(0, 0, 0, 0.3));\n",
              "      fill: #FFFFFF;\n",
              "    }\n",
              "  </style>\n",
              "\n",
              "    <script>\n",
              "      const buttonEl =\n",
              "        document.querySelector('#df-d2aeedb2-d471-40f1-8d37-87c7fd825151 button.colab-df-convert');\n",
              "      buttonEl.style.display =\n",
              "        google.colab.kernel.accessAllowed ? 'block' : 'none';\n",
              "\n",
              "      async function convertToInteractive(key) {\n",
              "        const element = document.querySelector('#df-d2aeedb2-d471-40f1-8d37-87c7fd825151');\n",
              "        const dataTable =\n",
              "          await google.colab.kernel.invokeFunction('convertToInteractive',\n",
              "                                                    [key], {});\n",
              "        if (!dataTable) return;\n",
              "\n",
              "        const docLinkHtml = 'Like what you see? Visit the ' +\n",
              "          '<a target=\"_blank\" href=https://colab.research.google.com/notebooks/data_table.ipynb>data table notebook</a>'\n",
              "          + ' to learn more about interactive tables.';\n",
              "        element.innerHTML = '';\n",
              "        dataTable['output_type'] = 'display_data';\n",
              "        await google.colab.output.renderOutput(dataTable, element);\n",
              "        const docLink = document.createElement('div');\n",
              "        docLink.innerHTML = docLinkHtml;\n",
              "        element.appendChild(docLink);\n",
              "      }\n",
              "    </script>\n",
              "  </div>\n",
              "\n",
              "\n",
              "<div id=\"df-52208f9c-c331-47e7-8b3e-41ffd0205856\">\n",
              "  <button class=\"colab-df-quickchart\" onclick=\"quickchart('df-52208f9c-c331-47e7-8b3e-41ffd0205856')\"\n",
              "            title=\"Suggest charts\"\n",
              "            style=\"display:none;\">\n",
              "\n",
              "<svg xmlns=\"http://www.w3.org/2000/svg\" height=\"24px\"viewBox=\"0 0 24 24\"\n",
              "     width=\"24px\">\n",
              "    <g>\n",
              "        <path d=\"M19 3H5c-1.1 0-2 .9-2 2v14c0 1.1.9 2 2 2h14c1.1 0 2-.9 2-2V5c0-1.1-.9-2-2-2zM9 17H7v-7h2v7zm4 0h-2V7h2v10zm4 0h-2v-4h2v4z\"/>\n",
              "    </g>\n",
              "</svg>\n",
              "  </button>\n",
              "\n",
              "<style>\n",
              "  .colab-df-quickchart {\n",
              "      --bg-color: #E8F0FE;\n",
              "      --fill-color: #1967D2;\n",
              "      --hover-bg-color: #E2EBFA;\n",
              "      --hover-fill-color: #174EA6;\n",
              "      --disabled-fill-color: #AAA;\n",
              "      --disabled-bg-color: #DDD;\n",
              "  }\n",
              "\n",
              "  [theme=dark] .colab-df-quickchart {\n",
              "      --bg-color: #3B4455;\n",
              "      --fill-color: #D2E3FC;\n",
              "      --hover-bg-color: #434B5C;\n",
              "      --hover-fill-color: #FFFFFF;\n",
              "      --disabled-bg-color: #3B4455;\n",
              "      --disabled-fill-color: #666;\n",
              "  }\n",
              "\n",
              "  .colab-df-quickchart {\n",
              "    background-color: var(--bg-color);\n",
              "    border: none;\n",
              "    border-radius: 50%;\n",
              "    cursor: pointer;\n",
              "    display: none;\n",
              "    fill: var(--fill-color);\n",
              "    height: 32px;\n",
              "    padding: 0;\n",
              "    width: 32px;\n",
              "  }\n",
              "\n",
              "  .colab-df-quickchart:hover {\n",
              "    background-color: var(--hover-bg-color);\n",
              "    box-shadow: 0 1px 2px rgba(60, 64, 67, 0.3), 0 1px 3px 1px rgba(60, 64, 67, 0.15);\n",
              "    fill: var(--button-hover-fill-color);\n",
              "  }\n",
              "\n",
              "  .colab-df-quickchart-complete:disabled,\n",
              "  .colab-df-quickchart-complete:disabled:hover {\n",
              "    background-color: var(--disabled-bg-color);\n",
              "    fill: var(--disabled-fill-color);\n",
              "    box-shadow: none;\n",
              "  }\n",
              "\n",
              "  .colab-df-spinner {\n",
              "    border: 2px solid var(--fill-color);\n",
              "    border-color: transparent;\n",
              "    border-bottom-color: var(--fill-color);\n",
              "    animation:\n",
              "      spin 1s steps(1) infinite;\n",
              "  }\n",
              "\n",
              "  @keyframes spin {\n",
              "    0% {\n",
              "      border-color: transparent;\n",
              "      border-bottom-color: var(--fill-color);\n",
              "      border-left-color: var(--fill-color);\n",
              "    }\n",
              "    20% {\n",
              "      border-color: transparent;\n",
              "      border-left-color: var(--fill-color);\n",
              "      border-top-color: var(--fill-color);\n",
              "    }\n",
              "    30% {\n",
              "      border-color: transparent;\n",
              "      border-left-color: var(--fill-color);\n",
              "      border-top-color: var(--fill-color);\n",
              "      border-right-color: var(--fill-color);\n",
              "    }\n",
              "    40% {\n",
              "      border-color: transparent;\n",
              "      border-right-color: var(--fill-color);\n",
              "      border-top-color: var(--fill-color);\n",
              "    }\n",
              "    60% {\n",
              "      border-color: transparent;\n",
              "      border-right-color: var(--fill-color);\n",
              "    }\n",
              "    80% {\n",
              "      border-color: transparent;\n",
              "      border-right-color: var(--fill-color);\n",
              "      border-bottom-color: var(--fill-color);\n",
              "    }\n",
              "    90% {\n",
              "      border-color: transparent;\n",
              "      border-bottom-color: var(--fill-color);\n",
              "    }\n",
              "  }\n",
              "</style>\n",
              "\n",
              "  <script>\n",
              "    async function quickchart(key) {\n",
              "      const quickchartButtonEl =\n",
              "        document.querySelector('#' + key + ' button');\n",
              "      quickchartButtonEl.disabled = true;  // To prevent multiple clicks.\n",
              "      quickchartButtonEl.classList.add('colab-df-spinner');\n",
              "      try {\n",
              "        const charts = await google.colab.kernel.invokeFunction(\n",
              "            'suggestCharts', [key], {});\n",
              "      } catch (error) {\n",
              "        console.error('Error during call to suggestCharts:', error);\n",
              "      }\n",
              "      quickchartButtonEl.classList.remove('colab-df-spinner');\n",
              "      quickchartButtonEl.classList.add('colab-df-quickchart-complete');\n",
              "    }\n",
              "    (() => {\n",
              "      let quickchartButtonEl =\n",
              "        document.querySelector('#df-52208f9c-c331-47e7-8b3e-41ffd0205856 button');\n",
              "      quickchartButtonEl.style.display =\n",
              "        google.colab.kernel.accessAllowed ? 'block' : 'none';\n",
              "    })();\n",
              "  </script>\n",
              "</div>\n",
              "    </div>\n",
              "  </div>\n"
            ],
            "text/plain": [
              "                   name   age     Weight      height        bmi  \\\n",
              "0             Lisa Ward  22.0  88.025330  166.597129  31.715579   \n",
              "1       Anthony Burgess  30.0  76.074558  203.607191  18.350724   \n",
              "2        Kelly Williams  27.0  86.868560  162.879591  32.743815   \n",
              "3       Natasha Hickman  63.0  79.340415  206.655423  18.578081   \n",
              "4      Christina Deleon  70.0  75.886507  205.213181  18.019970   \n",
              "5         Katelyn Avila  72.0  63.854668  190.366174  17.620291   \n",
              "6        Michelle Perez  65.0  91.161971  168.829585  31.982809   \n",
              "7          Deanna Mccoy  33.0  71.978807  162.356890  27.306321   \n",
              "8         Gregory Brown  50.0  91.847576  175.742313  29.738224   \n",
              "9   Dr. Lisa Roberts MD  94.0  80.082087  185.479109  23.277985   \n",
              "10        Linda Carroll  43.0  74.199654  152.019318  32.107340   \n",
              "11         Sandy Morton  86.0  88.380092  175.903521  28.563103   \n",
              "12       Joseph Hawkins  87.0  96.785226  210.928361  21.754000   \n",
              "13    Katherine Hubbard  43.0  65.572586  183.778373  19.414826   \n",
              "14         Robert Patel  42.0  61.378455  154.305476  25.778241   \n",
              "15         Megan Thomas  93.0  82.943609  157.354166  33.498583   \n",
              "16      Danielle Flores  58.0  94.118942  168.530904  33.137362   \n",
              "17        April Sanders  20.0  60.768476  180.587600  18.633846   \n",
              "18   Crystal Villarreal  41.0  95.543508  188.279782  26.952174   \n",
              "19           James Ford  61.0  69.616552  198.204142  17.720952   \n",
              "20         Kevin Watson  26.0  99.913299  148.268649  45.449032   \n",
              "21        Joshua Walton  67.0  96.014591  205.404032  22.757225   \n",
              "22         Shane Rogers  19.0  60.678140  192.189901  16.427487   \n",
              "23       Michael Conner  22.0  88.272216  194.281923  23.386178   \n",
              "24      Rebecca Gardner  76.0  78.121788  188.819914  21.911726   \n",
              "25        Hector Chavez  21.0  74.936342  180.544295  22.989258   \n",
              "26          James Lewis  98.0  94.437311  177.694534  29.908558   \n",
              "27        Michael Patel  41.0  95.438447  191.632005  25.988863   \n",
              "28    Spencer Davenport  38.0  60.335906  182.548978  18.105771   \n",
              "29     Christine Jacobs  66.0  80.862462  179.609578  25.066170   \n",
              "30         Robert Weber  95.0  75.142269  183.775802  22.248854   \n",
              "31        Rachel Levine  65.0  91.345288  203.793929  21.993972   \n",
              "32      Ricardo Hawkins  32.0  62.937608  170.035757  21.768561   \n",
              "33         Matthew Chan  24.0  81.008837  197.742037  20.717359   \n",
              "34        David Sanchez  71.0  65.718074  158.587354  26.130500   \n",
              "35   Frederick Sullivan  39.0  64.534065  185.604284  18.733246   \n",
              "36       Brian Quinn MD  42.0  67.122526  195.110803  17.632166   \n",
              "37         William King  72.0  84.914545  185.967075  24.553305   \n",
              "38         Pedro Morgan  41.0  85.014584  200.700303  21.105584   \n",
              "39        Steven Morgan  59.0  62.839630  188.009762  17.777587   \n",
              "40   Christopher Foster  50.0  94.254610  218.516148  19.739472   \n",
              "41        Marissa Woods  62.0  66.445387  183.130463  19.812699   \n",
              "42         Alexis Lopez  39.0  75.603715  157.242171  30.577718   \n",
              "43    Carrie Richardson  90.0  75.885120  185.844612  21.971347   \n",
              "44        Amber Ramirez  32.0  88.259166  160.493614  34.264493   \n",
              "45     Dr. Crystal Holt  71.0  93.172803  167.155298  33.346393   \n",
              "46           Colin Hunt  43.0  77.396781  163.752473  28.863378   \n",
              "47       Cody Hernandez  24.0  71.173011  183.266095  21.190982   \n",
              "48        Bonnie Wilson  35.0  83.640830  219.555558  17.351198   \n",
              "49       Jacob Thompson  94.0  97.157782  162.407493  36.835406   \n",
              "\n",
              "                                              address     latitude  \\\n",
              "0   633 Haynes Freeway Suite 925\\nHowellport, PA 9...   46.2982145   \n",
              "1   38027 Wang Parks Suite 806\\nPort Sarabury, DE ...    -4.651950   \n",
              "2                285 Morris Cliffs\\nMiaberg, OH 83306   -20.011271   \n",
              "3                    Unit 9043 Box 7840\\nDPO AA 66673    40.714667   \n",
              "4               443 Novak Plains\\nNew David, ND 64791   -54.716272   \n",
              "5          22359 Susan Island\\nMaureenville, ID 87229   -8.2555235   \n",
              "6            7820 Obrien Bypass\\nMarioshire, NC 17571     3.577933   \n",
              "7            895 Khan Greens\\nSouth Michael, MN 74966   81.6632025   \n",
              "8     0840 Mccoy Orchard\\nSouth Michaelside, WA 06961   -62.507860   \n",
              "9   55570 Douglas Shore Suite 419\\nGomezbury, MO 2...   -54.016057   \n",
              "10         711 Pollard Unions\\nDavidborough, UT 99208     4.249304   \n",
              "11      9999 Scott Branch\\nEast Christystad, ND 18398   24.8459405   \n",
              "12  04285 Sharon Lake Apt. 885\\nNew Laurenfort, OK...    32.393116   \n",
              "13  580 Davis Falls Suite 933\\nKimberlyhaven, CO 9...   -36.546364   \n",
              "14     436 Mayo Gateway Apt. 020\\nEast John, IN 94772  -87.1203095   \n",
              "15         3299 Melanie Station\\nClarkefort, MD 18619    62.050670   \n",
              "16            7357 David View\\nLake Rebecca, ID 25125   -45.285777   \n",
              "17  782 Jimenez Lodge Suite 537\\nSavannahville, NM...   -63.813683   \n",
              "18   198 David Walks Suite 055\\nWest Hannah, NE 36949    32.801164   \n",
              "19  7062 Hunter Summit Suite 142\\nEast Davetown, O...    16.507469   \n",
              "20  06502 James Crest\\nPort Nicholaschester, AZ 87153  -46.4858645   \n",
              "21      98971 Scott Prairie\\nPort Staceyton, OK 84484    87.328275   \n",
              "22              166 Cohen Stream\\nWest Luis, AK 85999  -47.7766265   \n",
              "23          8584 Logan Summit\\nEdwardsmouth, NJ 19373    46.278654   \n",
              "24   0500 William Shore Suite 313\\nKylebury, RI 02142   -82.739911   \n",
              "25  062 Alyssa Pike Apt. 876\\nWest Robertton, MA 5...    65.159144   \n",
              "26  4054 William Inlet Apt. 283\\nJeannestad, OR 27977   -86.872495   \n",
              "27  424 Elizabeth Harbors Suite 248\\nJenkinsfurt, ...    55.559536   \n",
              "28    97516 Long Forges Apt. 473\\nJamesbury, WV 46809  -41.7805045   \n",
              "29  105 Woods Mountain Apt. 120\\nNorth Michael, CA...  -15.7876285   \n",
              "30               784 Brett Plain\\nJonesberg, MN 19210   35.8463665   \n",
              "31         76512 Hawkins Drives\\nSouth Juan, ME 39157   61.2683815   \n",
              "32    0813 Richard Via Suite 325\\nRitamouth, KS 63477   -0.4439105   \n",
              "33           30482 Hobbs Plaza\\nKingchester, IN 22155   27.9306845   \n",
              "34    190 Smith Islands Suite 868\\nLunaland, NE 64544   18.0655195   \n",
              "35    1383 Montoya Islands\\nSouth Jamesfurt, IN 68822    50.169268   \n",
              "36  11166 Anna Plains Suite 748\\nTaylormouth, NH 9...  -80.6359795   \n",
              "37  4412 Joseph Turnpike Apt. 588\\nLake Victoria, ...    -1.294040   \n",
              "38           1377 Wood Estates\\nAndersonton, NM 31005   -7.6711305   \n",
              "39  5308 Gerald Track Suite 169\\nHughesberg, AZ 27105  -34.1597255   \n",
              "40  57442 Benjamin Square Suite 397\\nSouth Christo...   -11.840194   \n",
              "41  16080 Durham Cliff Suite 307\\nEdwardburgh, MP ...    48.904398   \n",
              "42      8135 Judith Ranch Apt. 467\\nLisaton, MN 15041  -46.6064335   \n",
              "43        665 Christian Orchard\\nAlexisfort, SC 32050   -55.616933   \n",
              "44    686 Harris Pines\\nLake Jeffreyborough, KS 15083   79.1776985   \n",
              "45  1521 Rogers Mountain Apt. 472\\nSouth Cheryl, L...    44.667149   \n",
              "46                          USCGC Davis\\nFPO AE 34615    56.058405   \n",
              "47  8339 Dawn Rapid Apt. 627\\nRodriguezside, NH 39052  -39.3160485   \n",
              "48           86569 Edwards Shoal\\nHeathfurt, OR 96617   -30.790560   \n",
              "49  45307 Brandon Key Suite 877\\nEast Robertburgh,...  -79.7205455   \n",
              "\n",
              "      longitude  \n",
              "0    -11.392734  \n",
              "1    -32.832593  \n",
              "2    -46.106907  \n",
              "3     -1.682302  \n",
              "4    -60.706452  \n",
              "5    -68.336723  \n",
              "6   -114.146532  \n",
              "7     11.537407  \n",
              "8    -81.096575  \n",
              "9   -114.021602  \n",
              "10  -145.412454  \n",
              "11    27.202954  \n",
              "12   -64.467939  \n",
              "13    -3.103521  \n",
              "14     7.032576  \n",
              "15  -136.269369  \n",
              "16   177.723808  \n",
              "17  -111.192285  \n",
              "18    55.586257  \n",
              "19   -42.961202  \n",
              "20    68.380166  \n",
              "21   -73.065882  \n",
              "22   -81.654178  \n",
              "23   -73.090445  \n",
              "24   -90.233848  \n",
              "25  -133.748554  \n",
              "26   122.192440  \n",
              "27   -12.529167  \n",
              "28  -177.947647  \n",
              "29   102.136728  \n",
              "30  -136.865244  \n",
              "31  -114.282697  \n",
              "32   -55.586165  \n",
              "33  -145.174537  \n",
              "34   141.112336  \n",
              "35   119.490045  \n",
              "36    75.725919  \n",
              "37   130.317281  \n",
              "38  -154.249895  \n",
              "39  -112.106784  \n",
              "40   175.122580  \n",
              "41   -33.948171  \n",
              "42     8.213126  \n",
              "43   151.950190  \n",
              "44   155.503578  \n",
              "45    77.596331  \n",
              "46   -62.950084  \n",
              "47  -147.013286  \n",
              "48     4.492918  \n",
              "49    31.510089  "
            ]
          },
          "execution_count": 36,
          "metadata": {},
          "output_type": "execute_result"
        }
      ],
      "source": [
        "from random import randint\n",
        "import pandas as pd\n",
        "import random\n",
        "\n",
        "fake = Faker()\n",
        "\n",
        "def input_data(n_rows):\n",
        "\n",
        "    # pandas dataframe\n",
        "    data = pd.DataFrame()\n",
        "    for i in range(0, n_rows):\n",
        "        data.loc[i,'name']= fake.name()\n",
        "        data.loc[i,'age']= fake.random_int(18, 100)\n",
        "        data.loc[i,'Weight']= random.uniform(60, 100)\n",
        "        data.loc[i,'height']= random.gauss(180, 15.5)\n",
        "        data.loc[i,'bmi']= data.loc[i,'Weight']/(data.loc[i,'height']*0.01)**2\n",
        "        data.loc[i,'address']= fake.address()\n",
        "        data.loc[i,'latitude']= str(fake.latitude())\n",
        "        data.loc[i,'longitude']= str(fake.longitude())\n",
        "    return data\n",
        "\n",
        "\n",
        "input_data(50)"
      ]
    },
    {
      "cell_type": "markdown",
      "metadata": {
        "id": "G8wFFbqDEkJn"
      },
      "source": [
        "### Challenge 9:\n",
        "Update the  example above so that you:\n",
        "- Generate a `height` feature following a gaussian distribution of with mu=180 cm and a std_deviation=15.5 cm.\n",
        "- Generate a `bmi` feature where bmi = Weight / (height (in meter) **2)."
      ]
    },
    {
      "cell_type": "code",
      "execution_count": 37,
      "metadata": {
        "id": "jWlh8FjvEkJn"
      },
      "outputs": [],
      "source": [
        "#Your Solution"
      ]
    }
  ],
  "metadata": {
    "colab": {
      "provenance": []
    },
    "kernelspec": {
      "display_name": "Python 3",
      "language": "python",
      "name": "python3"
    },
    "language_info": {
      "codemirror_mode": {
        "name": "ipython",
        "version": 3
      },
      "file_extension": ".py",
      "mimetype": "text/x-python",
      "name": "python",
      "nbconvert_exporter": "python",
      "pygments_lexer": "ipython3",
      "version": "3.11.5"
    }
  },
  "nbformat": 4,
  "nbformat_minor": 0
}
